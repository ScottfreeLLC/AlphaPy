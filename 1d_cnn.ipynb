{
 "cells": [
  {
   "cell_type": "code",
   "execution_count": 1,
   "id": "upper-wisdom",
   "metadata": {},
   "outputs": [],
   "source": [
    "from numpy import mean\n",
    "from numpy import std\n",
    "from numpy import dstack\n",
    "from pandas import read_csv\n",
    "from matplotlib import pyplot\n",
    "from keras.models import Sequential\n",
    "from keras.layers import Dense\n",
    "from keras.layers import Flatten\n",
    "from keras.layers import Dropout\n",
    "from keras.layers.convolutional import Conv1D\n",
    "from keras.layers.convolutional import MaxPooling1D\n",
    "from keras.utils import to_categorical\n",
    "import csv\n",
    "import os\n",
    "import numpy as np\n",
    "import matplotlib.pyplot as plt\n",
    "import seaborn as sns"
   ]
  },
  {
   "cell_type": "code",
   "execution_count": 2,
   "id": "concerned-shuttle",
   "metadata": {},
   "outputs": [],
   "source": [
    "def res(arr,x,y):\n",
    "    zeroarray=np.zeros((1,y))\n",
    "    #print(arr.shape)\n",
    "    k=120-x+1\n",
    "    if x<=120:\n",
    "        for i in range(1,k):\n",
    "            arr = np.vstack((arr,zeroarray))      #重設矩陣大小\n",
    "    return arr"
   ]
  },
  {
   "cell_type": "code",
   "execution_count": 3,
   "id": "interstate-grain",
   "metadata": {},
   "outputs": [],
   "source": [
    "dirdata1='正手訓/'\n",
    "dirdata2='反手訓/'"
   ]
  },
  {
   "cell_type": "code",
   "execution_count": 4,
   "id": "apart-purpose",
   "metadata": {},
   "outputs": [],
   "source": [
    "def data_all(dirdata1,dirdata2):\n",
    "    data = []\n",
    "    x=[]\n",
    "    label=[]\n",
    "    max=120\n",
    "    for i in os.listdir(dirdata1):\n",
    "        npy_file = (dirdata1+i)\n",
    "        x=np.load(npy_file)\n",
    "        #x=np.delete(x, [30,31,32,33,34,35,36,37,40,41,42,43,46,47,48,49], axis=1)\n",
    "        #移除15,16,17,18,20,21,23,24點位\n",
    "        a,b=x.shape\n",
    "        x=res(x,a,b)\n",
    "        x = np.array(x)\n",
    "        data.append(x)\n",
    "        label.append(0)\n",
    "    for i in os.listdir(dirdata2):\n",
    "        npy_file = (dirdata2+i)\n",
    "        x=np.load(npy_file)\n",
    "        #x=np.delete(x, [30,31,32,33,34,35,36,37,40,41,42,43,46,47,48,49], axis=1)\n",
    "        a,b=x.shape\n",
    "        x=res(x,a,b)\n",
    "        x = np.array(x)\n",
    "\n",
    "        data.append(x)\n",
    "        label.append(1)\n",
    "    \n",
    "    \n",
    "    data = np.array(data) # 3\n",
    "    label = np.array(label) #3\n",
    "    label = np.eye(2)[label]\n",
    "    \n",
    "    return data,label"
   ]
  },
  {
   "cell_type": "code",
   "execution_count": 5,
   "id": "indie-crystal",
   "metadata": {},
   "outputs": [],
   "source": [
    "def data_new(dirdata1,dirdata2):\n",
    "    data = []\n",
    "    x=[]\n",
    "    label=[]\n",
    "    max=120\n",
    "    for i in os.listdir(dirdata1):\n",
    "        npy_file = (dirdata1+i)\n",
    "        x=np.load(npy_file)\n",
    "        x=np.delete(x, [30,31,32,33,34,35,36,37,40,41,42,43,46,47,48,49], axis=1)\n",
    "        #移除15,16,17,18,20,21,23,24點位\n",
    "        a,b=x.shape\n",
    "        x=res(x,a,b)\n",
    "        x = np.array(x)\n",
    "        data.append(x)\n",
    "        label.append(0)\n",
    "    for i in os.listdir(dirdata2):\n",
    "        npy_file = (dirdata2+i)\n",
    "        x=np.load(npy_file)\n",
    "        x=np.delete(x, [30,31,32,33,34,35,36,37,40,41,42,43,46,47,48,49], axis=1)\n",
    "        a,b=x.shape\n",
    "        x=res(x,a,b)\n",
    "        x = np.array(x)\n",
    "\n",
    "        data.append(x)\n",
    "        label.append(1)\n",
    "    \n",
    "    \n",
    "    data = np.array(data) # 3\n",
    "    label = np.array(label) #3\n",
    "    label = np.eye(2)[label]\n",
    "    \n",
    "    return data,label"
   ]
  },
  {
   "cell_type": "code",
   "execution_count": 6,
   "id": "antique-charity",
   "metadata": {},
   "outputs": [],
   "source": [
    "data,label=data_all(dirdata1,dirdata2)"
   ]
  },
  {
   "cell_type": "code",
   "execution_count": 8,
   "id": "approximate-support",
   "metadata": {},
   "outputs": [],
   "source": [
    "from sklearn.model_selection import train_test_split\n",
    "X_train, X_test, Y_train, Y_test = train_test_split(data, label, test_size=0.33, random_state=42)"
   ]
  },
  {
   "cell_type": "code",
   "execution_count": 9,
   "id": "conservative-dubai",
   "metadata": {},
   "outputs": [
    {
     "data": {
      "text/plain": [
       "(440, 120, 50)"
      ]
     },
     "execution_count": 9,
     "metadata": {},
     "output_type": "execute_result"
    }
   ],
   "source": [
    "data.shape"
   ]
  },
  {
   "cell_type": "code",
   "execution_count": 10,
   "id": "spread-night",
   "metadata": {},
   "outputs": [],
   "source": [
    "count,x,y=data.shape"
   ]
  },
  {
   "cell_type": "code",
   "execution_count": 11,
   "id": "reliable-appeal",
   "metadata": {},
   "outputs": [],
   "source": [
    "model = Sequential()\n",
    "model.add(Conv1D(filters=64, kernel_size=3, activation='relu', input_shape=(x,y)))\n",
    "model.add(Conv1D(filters=64, kernel_size=3, activation='relu'))\n",
    "model.add(Dropout(0.5))\n",
    "model.add(MaxPooling1D(pool_size=2))\n",
    "model.add(Flatten())\n",
    "model.add(Dense(100, activation='relu'))\n",
    "model.add(Dense(2, activation='softmax'))"
   ]
  },
  {
   "cell_type": "code",
   "execution_count": 12,
   "id": "foreign-tutorial",
   "metadata": {},
   "outputs": [
    {
     "name": "stdout",
     "output_type": "stream",
     "text": [
      "Model: \"sequential\"\n",
      "_________________________________________________________________\n",
      "Layer (type)                 Output Shape              Param #   \n",
      "=================================================================\n",
      "conv1d (Conv1D)              (None, 118, 64)           9664      \n",
      "_________________________________________________________________\n",
      "conv1d_1 (Conv1D)            (None, 116, 64)           12352     \n",
      "_________________________________________________________________\n",
      "dropout (Dropout)            (None, 116, 64)           0         \n",
      "_________________________________________________________________\n",
      "max_pooling1d (MaxPooling1D) (None, 58, 64)            0         \n",
      "_________________________________________________________________\n",
      "flatten (Flatten)            (None, 3712)              0         \n",
      "_________________________________________________________________\n",
      "dense (Dense)                (None, 100)               371300    \n",
      "_________________________________________________________________\n",
      "dense_1 (Dense)              (None, 2)                 202       \n",
      "=================================================================\n",
      "Total params: 393,518\n",
      "Trainable params: 393,518\n",
      "Non-trainable params: 0\n",
      "_________________________________________________________________\n"
     ]
    }
   ],
   "source": [
    "model.summary()"
   ]
  },
  {
   "cell_type": "code",
   "execution_count": 13,
   "id": "invisible-collector",
   "metadata": {},
   "outputs": [
    {
     "name": "stdout",
     "output_type": "stream",
     "text": [
      "Epoch 1/10\n",
      "8/8 [==============================] - 0s 32ms/step - loss: 699.4298 - accuracy: 0.5617 - val_loss: 9.1935 - val_accuracy: 0.8644\n",
      "Epoch 2/10\n",
      "8/8 [==============================] - 0s 8ms/step - loss: 17.3515 - accuracy: 0.9064 - val_loss: 18.2639 - val_accuracy: 0.9322\n",
      "Epoch 3/10\n",
      "8/8 [==============================] - 0s 8ms/step - loss: 4.1020 - accuracy: 0.9745 - val_loss: 12.4466 - val_accuracy: 0.9322\n",
      "Epoch 4/10\n",
      "8/8 [==============================] - 0s 9ms/step - loss: 2.6903 - accuracy: 0.9957 - val_loss: 0.6509 - val_accuracy: 0.9492\n",
      "Epoch 5/10\n",
      "8/8 [==============================] - 0s 9ms/step - loss: 0.2998 - accuracy: 0.9915 - val_loss: 1.3842 - val_accuracy: 0.9492\n",
      "Epoch 6/10\n",
      "8/8 [==============================] - 0s 9ms/step - loss: 2.8660e-07 - accuracy: 1.0000 - val_loss: 0.9450 - val_accuracy: 0.9492\n",
      "Epoch 7/10\n",
      "8/8 [==============================] - 0s 9ms/step - loss: 0.0668 - accuracy: 0.9957 - val_loss: 0.0423 - val_accuracy: 0.9831\n",
      "Epoch 8/10\n",
      "8/8 [==============================] - 0s 8ms/step - loss: 0.0000e+00 - accuracy: 1.0000 - val_loss: 0.0000e+00 - val_accuracy: 1.0000\n",
      "Epoch 9/10\n",
      "8/8 [==============================] - 0s 9ms/step - loss: 0.0000e+00 - accuracy: 1.0000 - val_loss: 0.0000e+00 - val_accuracy: 1.0000\n",
      "Epoch 10/10\n",
      "8/8 [==============================] - 0s 9ms/step - loss: 0.0000e+00 - accuracy: 1.0000 - val_loss: 0.0000e+00 - val_accuracy: 1.0000\n"
     ]
    }
   ],
   "source": [
    "model.compile(loss='categorical_crossentropy', optimizer='adam', metrics=['accuracy'])\n",
    "\n",
    "history = model.fit(X_train,Y_train, epochs=10, validation_split=0.2, batch_size=30, verbose=1)\n"
   ]
  },
  {
   "cell_type": "code",
   "execution_count": 14,
   "id": "handmade-election",
   "metadata": {},
   "outputs": [
    {
     "data": {
      "image/png": "[encoded data removed]",
      "text/plain": [
       "<Figure size 864x288 with 2 Axes>"
      ]
     },
     "metadata": {
      "needs_background": "light"
     },
     "output_type": "display_data"
    }
   ],
   "source": [
    "f, (ax1, ax2) = plt.subplots(1, 2, figsize=(12, 4))\n",
    "t = f.suptitle('class model evaluate', fontsize=12)\n",
    "f.subplots_adjust(top=0.85, wspace=0.3)\n",
    "\n",
    "class_epoch_list = list(range(1,11))\n",
    "ax1.plot(class_epoch_list, history.history['accuracy'], label='class_Train Accuracy')\n",
    "ax1.plot(class_epoch_list, history.history['val_accuracy'], label='class_Validation Accuracy')\n",
    "ax1.set_xticks(np.arange(0, 11, 5))\n",
    "ax1.set_ylabel('class_Accuracy Value')\n",
    "ax1.set_xlabel('class_Epoch')\n",
    "ax1.set_title('class_Accuracy')\n",
    "l1 = ax1.legend(loc=\"best\")\n",
    "\n",
    "ax2.plot(class_epoch_list, history.history['loss'], label='class_Train Loss')\n",
    "ax2.plot(class_epoch_list, history.history['val_loss'], label='class_Validation Loss')\n",
    "ax2.set_xticks(np.arange(0, 11, 5))\n",
    "ax2.set_ylabel('class_Loss Value')\n",
    "ax2.set_xlabel('class_Epoch')\n",
    "ax2.set_title('class_Loss')\n",
    "l2 = ax2.legend(loc=\"best\")"
   ]
  },
  {
   "cell_type": "code",
   "execution_count": 16,
   "id": "constant-scanner",
   "metadata": {},
   "outputs": [],
   "source": [
    "#model.save('1d_cnn_all.h5')"
   ]
  },
  {
   "cell_type": "code",
   "execution_count": 17,
   "id": "signal-opinion",
   "metadata": {},
   "outputs": [],
   "source": [
    "from sklearn.metrics import confusion_matrix\n",
    "from sklearn.metrics import classification_report"
   ]
  },
  {
   "cell_type": "code",
   "execution_count": 18,
   "id": "desirable-mexican",
   "metadata": {},
   "outputs": [],
   "source": [
    "import keras\n",
    "modello = keras.models.load_model('1d_cnn_all.h5')"
   ]
  },
  {
   "cell_type": "code",
   "execution_count": 28,
   "id": "liable-peninsula",
   "metadata": {},
   "outputs": [],
   "source": [
    "test_dirdata1='正手測/'\n",
    "test_dirdata2='反手測/'"
   ]
  },
  {
   "cell_type": "code",
   "execution_count": 29,
   "id": "civic-lewis",
   "metadata": {},
   "outputs": [],
   "source": [
    "test_data,test_label=data_all(test_dirdata1,test_dirdata2)"
   ]
  },
  {
   "cell_type": "code",
   "execution_count": 30,
   "id": "considerable-error",
   "metadata": {},
   "outputs": [
    {
     "name": "stdout",
     "output_type": "stream",
     "text": [
      "10/10 - 0s\n"
     ]
    }
   ],
   "source": [
    "time_pre=modello.predict(test_data,verbose=2)"
   ]
  },
  {
   "cell_type": "code",
   "execution_count": 31,
   "id": "revised-mining",
   "metadata": {},
   "outputs": [
    {
     "data": {
      "text/plain": [
       "array([[1., 0.],\n",
       "       [1., 0.],\n",
       "       [1., 0.]])"
      ]
     },
     "execution_count": 31,
     "metadata": {},
     "output_type": "execute_result"
    }
   ],
   "source": [
    "test_label[:3]"
   ]
  },
  {
   "cell_type": "code",
   "execution_count": 32,
   "id": "systematic-lunch",
   "metadata": {},
   "outputs": [
    {
     "data": {
      "text/plain": [
       "array([[0., 1.],\n",
       "       [0., 1.],\n",
       "       [0., 1.]], dtype=float32)"
      ]
     },
     "execution_count": 32,
     "metadata": {},
     "output_type": "execute_result"
    }
   ],
   "source": [
    "time_pre[:3]"
   ]
  },
  {
   "cell_type": "code",
   "execution_count": 33,
   "id": "introductory-mumbai",
   "metadata": {},
   "outputs": [],
   "source": [
    "Y_test = np.argmax(test_label,axis=1)\n",
    "Y_pred = np.argmax(time_pre,axis=1)"
   ]
  },
  {
   "cell_type": "code",
   "execution_count": 34,
   "id": "outside-survival",
   "metadata": {},
   "outputs": [
    {
     "data": {
      "image/png": "[encoded data removed]",
      "text/plain": [
       "<Figure size 432x288 with 1 Axes>"
      ]
     },
     "metadata": {},
     "output_type": "display_data"
    }
   ],
   "source": [
    "mat = confusion_matrix(Y_test,Y_pred)\n",
    "\n",
    "sns.set(font_scale=1.5)\n",
    "plt.subplot(1,2,1)\n",
    "sns.heatmap(mat, square=True, annot=True, fmt='d', cbar=False)\n",
    "plt.xticks(fontsize=20)\n",
    "plt.yticks(fontsize=20)\n",
    "\n",
    "plt.ylabel('true label')\n",
    "plt.xlabel('predicted label');"
   ]
  },
  {
   "cell_type": "code",
   "execution_count": 35,
   "id": "drawn-sight",
   "metadata": {},
   "outputs": [
    {
     "name": "stdout",
     "output_type": "stream",
     "text": [
      "              precision    recall  f1-score   support\n",
      "\n",
      "    forehand       1.00      0.94      0.97       159\n",
      "    backhand       0.94      1.00      0.97       145\n",
      "\n",
      "    accuracy                           0.97       304\n",
      "   macro avg       0.97      0.97      0.97       304\n",
      "weighted avg       0.97      0.97      0.97       304\n",
      "\n"
     ]
    }
   ],
   "source": [
    "target_names = [\"forehand\",\"backhand\"]\n",
    "print(classification_report(Y_test,Y_pred,target_names=target_names))"
   ]
  },
  {
   "cell_type": "code",
   "execution_count": 38,
   "id": "danish-coupon",
   "metadata": {},
   "outputs": [
    {
     "data": {
      "text/plain": [
       "Text(0.5, 1.0, 'Predicted label (first 100)')"
      ]
     },
     "execution_count": 38,
     "metadata": {},
     "output_type": "execute_result"
    },
    {
     "data": {
      "image/png": "[encoded data removed]",
      "text/plain": [
       "<Figure size 288x216 with 1 Axes>"
      ]
     },
     "metadata": {},
     "output_type": "display_data"
    }
   ],
   "source": [
    "plt.figure(figsize=(4,3))\n",
    "\n",
    "\n",
    "# plt.subplot(3,1,1)\n",
    "plt.plot(time_pre[:500], color = 'red', label = 'Predicted')\n",
    "plt.plot(Y_test[:500], color = 'black', linewidth=2, label = 'True value')\n",
    "\n",
    "plt.legend(frameon=False)\n",
    "plt.ylabel(\"label forecast\")\n",
    "plt.xlabel(\"time\")\n",
    "plt.title(\"Predicted label (first 100)\")"
   ]
  },
  {
   "cell_type": "code",
   "execution_count": null,
   "id": "gorgeous-repair",
   "metadata": {},
   "outputs": [],
   "source": []
  }
 ],
 "metadata": {
  "kernelspec": {
   "display_name": "Python 3",
   "language": "python",
   "name": "python3"
  },
  "language_info": {
   "codemirror_mode": {
    "name": "ipython",
    "version": 3
   },
   "file_extension": ".py",
   "mimetype": "text/x-python",
   "name": "python",
   "nbconvert_exporter": "python",
   "pygments_lexer": "ipython3",
   "version": "3.8.8"
  }
 },
 "nbformat": 4,
 "nbformat_minor": 5
}
