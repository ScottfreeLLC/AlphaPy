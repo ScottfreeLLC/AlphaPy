{
 "cells": [
  {
   "cell_type": "code",
   "execution_count": 1,
   "metadata": {},
   "outputs": [],
   "source": [
    "#本代碼所涉及的所有函數庫\n",
    "import pandas as pd\n",
    "import numpy as np\n",
    "import matplotlib.pyplot as plt\n",
    "from sklearn import preprocessing\n",
    "from keras.utils import np_utils\n",
    "from sklearn.model_selection import train_test_split\n",
    "from keras.models import Sequential\n",
    "from keras.layers import Dense , Dropout,LSTM\n",
    "from keras import backend\n",
    "from keras.optimizers import SGD\n",
    "from pandas import read_csv\n",
    "import tensorflow.keras\n",
    "import tensorflow as tf\n",
    "import csv\n",
    "import math\n",
    "import random\n",
    "import operator\n",
    "from scipy.ndimage import gaussian_filter1d\n",
    "from scipy.signal import medfilt\n",
    "from sklearn.preprocessing import MinMaxScaler\n",
    "from math import sqrt\n",
    "from numpy import concatenate\n",
    "from matplotlib import pyplot\n",
    "from pandas import read_csv\n",
    "from pandas import DataFrame\n",
    "from pandas import concat\n",
    "from sklearn.preprocessing import LabelEncoder\n",
    "from sklearn.metrics import mean_squared_error\n",
    "from keras.layers.wrappers import Bidirectional\n",
    "from keras.layers.normalization import BatchNormalization\n",
    "from keras.layers.recurrent import GRU\n",
    "%matplotlib inline\n",
    "import os\n",
    "import keras"
   ]
  },
  {
   "cell_type": "markdown",
   "metadata": {},
   "source": [
    "# LSTM模型"
   ]
  },
  {
   "cell_type": "code",
   "execution_count": 2,
   "metadata": {},
   "outputs": [],
   "source": [
    "def res(arr,x,y):\n",
    "    zeroarray=np.zeros((1,y))\n",
    "    #print(arr.shape)\n",
    "    k=120-x+1\n",
    "    if x<=120:\n",
    "        for i in range(1,k):\n",
    "            arr = np.vstack((arr,zeroarray))      #重設矩陣大小\n",
    "    return arr"
   ]
  },
  {
   "cell_type": "code",
   "execution_count": 3,
   "metadata": {},
   "outputs": [],
   "source": [
    "def classdatapredeal(dirdata1,dirdata2,string):\n",
    "    \n",
    "#     df = pd.read_csv(filedir1)#\n",
    "#     #print(df)\n",
    "#     attribute=df.columns#獲取屬性值\n",
    "    attribute_set=[]\n",
    "    count_arribute=0#基因選擇後的屬性個數\n",
    "    #print(attribute)\n",
    "    i=0\n",
    "    for record in string: \n",
    "        if (record=='0'):\n",
    "            count_arribute+=1\n",
    "            attribute_set.append(i)\n",
    "        i=1+i\n",
    "    print(count_arribute)\n",
    "    \n",
    "    data1 = []\n",
    "    label1 = []\n",
    "    data2 = []\n",
    "    label2 = []\n",
    "    \n",
    "    for i in os.listdir(dirdata1):\n",
    "        npy_file = (dirdata1+i)\n",
    "        x=np.load(npy_file)\n",
    "        \n",
    "        #x=np.delete(x, [30,31,32,33,34,35,36,37,40,41,42,43,46,47,48,49], axis=1)\n",
    "        x=np.delete(x,attribute_set , axis=1)\n",
    "        a,b=x.shape\n",
    "        x=x.flatten('F')\n",
    "        x.resize(120*b)\n",
    "        x = np.array(x)\n",
    "        \n",
    "        \n",
    "        data1.append(x)\n",
    "        label1.append(0)\n",
    "    print(len(data1))\n",
    "\n",
    "    for i in os.listdir(dirdata2):\n",
    "        npy_file = (dirdata2+i)\n",
    "        x=np.load(npy_file)\n",
    "        #x=np.delete(x, [30,31,32,33,34,35,36,37,40,41,42,43,46,47,48,49], axis=1)\n",
    "        x=np.delete(x,attribute_set , axis=1)\n",
    "        a,b=x.shape\n",
    "        \n",
    "        x=x.flatten('F')\n",
    "        \n",
    "        x.resize(120*b)\n",
    "        x = np.array(x)\n",
    "        \n",
    "        data2.append(x)\n",
    "        label2.append(1)\n",
    "    print(len(data2))\n",
    "    \n",
    "    # print(data1)\n",
    "    data1 = np.array(data1)\n",
    "    label1 = np.array(label1)\n",
    "    print(data1)\n",
    "    data2 = np.array(data2)\n",
    "    label2 = np.array(label2)\n",
    "    \n",
    "    \n",
    "    print(label1.shape)\n",
    "    #print(label1)\n",
    "    \n",
    "    data1 = preprocessing.scale(data1)\n",
    "    data2 = preprocessing.scale(data2)\n",
    "   \n",
    "    #print(data1)\n",
    "    print(data1.shape)\n",
    "#     data1=medfilt(data1,3)\n",
    "#     data1=gaussian_filter1d(data1,1.2)\n",
    "#     data2=medfilt(data2,3)\n",
    "#     data2=gaussian_filter1d(data2,1.2)\n",
    "#     sc=MinMaxScaler(feature_range=(0,1))\n",
    "#     data1=sc.fit_transform(data1)\n",
    "#     data2=sc.fit_transform(data2)\n",
    "    return  data1,label1,data2,label2"
   ]
  },
  {
   "cell_type": "code",
   "execution_count": 4,
   "metadata": {},
   "outputs": [],
   "source": [
    "def datasplit(data,label):\n",
    "    train_X,test_X, train_y, test_y = train_test_split(data,\n",
    "                                                   label,\n",
    "                                                   test_size = 0.4,\n",
    "                                                   random_state = 77,shuffle=True)\n",
    "    return train_X,test_X, train_y, test_y\n",
    "    "
   ]
  },
  {
   "cell_type": "code",
   "execution_count": 5,
   "metadata": {},
   "outputs": [],
   "source": [
    "def datasplit1(data,label):\n",
    "    train_X,test_X, train_y, test_y = train_test_split(data,\n",
    "                                                   label,\n",
    "                                                   test_size = 0.5,\n",
    "                                                   random_state = 42,shuffle=True)\n",
    "    return train_X,test_X, train_y, test_y\n",
    "    "
   ]
  },
  {
   "cell_type": "code",
   "execution_count": 6,
   "metadata": {},
   "outputs": [],
   "source": [
    "#分類數據重組\n",
    "def classdataReorganization(data1,label1,data2,label2,step):\n",
    "    re_train_data = []\n",
    "    re_train_label=[]\n",
    "    \n",
    "    data1 = np.array(data1)\n",
    "    data2 = np.array(data2)\n",
    "    \n",
    "    for i in range(0,data1.shape[0]):\n",
    "        re_train_data.append(data1[i])\n",
    "        re_train_label.append(label1[0])\n",
    "\n",
    "    for i in range(0,data2.shape[0]):\n",
    "        re_train_data.append(data2[i])\n",
    "        re_train_label.append(label2[0])\n",
    "    \n",
    "    \n",
    "    All_data = np.array(re_train_data)\n",
    "    All_label = np.array(re_train_label)\n",
    "    #print(All_data[0])\n",
    "     # Label Onehot-encoding \n",
    "    All_label = np_utils.to_categorical(All_label)\n",
    "    #print(All_data.shape[2])\n",
    "    #print(All_label.shape)\n",
    "    #print(All_label)\n",
    "    return All_data,All_label"
   ]
  },
  {
   "cell_type": "code",
   "execution_count": 7,
   "metadata": {},
   "outputs": [],
   "source": [
    "#分類數據重組\n",
    "def classdataReorganization1(data1,label1,data2,label2,step):\n",
    "    re_train_data = []\n",
    "    re_train_label=[]\n",
    "    #print(data1.shape)\n",
    "    #print(label1)\n",
    "    for i in range(len(data1)-step):\n",
    "        re_train_data.append(data1[i:i+step])\n",
    "        re_train_label.append(label1[i+step])\n",
    "\n",
    "    for i in range(len(data2)-step):\n",
    "        re_train_data.append(data2[i:i+step])\n",
    "        re_train_label.append(label2[i+step])\n",
    "    \n",
    "    \n",
    "    All_data = np.array(re_train_data)\n",
    "    All_label = np.array(re_train_label)\n",
    "    #print(All_data.shape)\n",
    "     # Label Onehot-encoding \n",
    "    All_label = np_utils.to_categorical(All_label)\n",
    "    return All_data,All_label"
   ]
  },
  {
   "cell_type": "code",
   "execution_count": 8,
   "metadata": {},
   "outputs": [],
   "source": [
    "#分類數據重組\n",
    "def classdataReorganization2(data1,label1,data2,label2,step):\n",
    "    re_train_data = []\n",
    "    re_train_label=[]\n",
    "    \n",
    "    data1 = np.array(data1)\n",
    "    data2 = np.array(data2)\n",
    "    #print(data1.shape)\n",
    "    #print(label1)\n",
    "    \n",
    "    for i in range(0,data1.shape[0]):\n",
    "        re_train_data.append(data1[i])\n",
    "        re_train_label.append(label1[i])\n",
    "\n",
    "    for i in range(0,data2.shape[0]):\n",
    "        re_train_data.append(data2[i])\n",
    "        re_train_label.append(label2[i])\n",
    "    \n",
    "    \n",
    "    All_data = np.array(re_train_data)\n",
    "    All_label = np.array(re_train_label)\n",
    "    #print(All_data.shape)\n",
    "    #print(All_data[0])\n",
    "     # Label Onehot-encoding \n",
    "    All_label = np_utils.to_categorical(All_label)\n",
    "    return All_data,All_label"
   ]
  },
  {
   "cell_type": "code",
   "execution_count": 9,
   "metadata": {},
   "outputs": [],
   "source": [
    "def timeModel(X,step):\n",
    "# 序列到序列堆叠式LSTM模型 \n",
    "    #temp=X.shape[2]\n",
    "    model=Sequential()\n",
    "    model.add(LSTM(20,activation='relu',input_shape=(step,X.shape[2]),return_sequences=True))\n",
    "    model.add(LSTM(20,activation='relu'))\n",
    "    model.add(BatchNormalization())\n",
    "    model.add(Dense(2,activation = 'sigmoid'))\n",
    "    model.compile(loss='mse', optimizer=\"Adam\", metrics=['accuracy'])\n",
    "    model.summary()\n",
    "    return model"
   ]
  },
  {
   "cell_type": "code",
   "execution_count": 10,
   "metadata": {},
   "outputs": [],
   "source": [
    "def timeModel1(X,step):\n",
    "# 序列到序列堆叠式LSTM模型 \n",
    "\n",
    "    model=Sequential()\n",
    "    model.add(LSTM(20,activation='relu',input_shape=(step,X.shape[2]),return_sequences=True))\n",
    "    model.add(LSTM(20,activation='relu'))\n",
    "    model.add(BatchNormalization())\n",
    "    model.add(Dense(2,activation = 'sigmoid'))\n",
    "    model.compile(loss='mse', optimizer=\"Adam\", metrics=['accuracy'])\n",
    "    model.summary()\n",
    "    return model"
   ]
  },
  {
   "cell_type": "markdown",
   "metadata": {},
   "source": [
    "# 基因演算法"
   ]
  },
  {
   "cell_type": "code",
   "execution_count": 40,
   "metadata": {},
   "outputs": [],
   "source": [
    "class GA():\n",
    "    def __init__(self, length, count):\n",
    "        # 染色體長度\n",
    "        self.length = length\n",
    "        # 種群中的染色體數量\n",
    "        self.count = count\n",
    "        # 隨機生成初始種群\n",
    "        self.population = self.gen_population(length, count)\n",
    "        for i in range(len(self.population)):\n",
    "            print(\"染色體：\")\n",
    "            print(i)\n",
    "            print (self.population[i])\n",
    "            print ('{0:b}'.format(self.population[i]))\n",
    "#         #數據文路徑\n",
    "#         self.filedir=filedir\n",
    "    def evolve(self, retain_rate=0.2, random_select_rate=0.5, mutation_rate=0.01):\n",
    "        \"\"\"\n",
    "        進化\n",
    "        對當前一代種群依次進行選擇、交叉並生成新一代種群，然後對新一代種群進行變異\n",
    "        \"\"\"\n",
    "        parents = self.selection(retain_rate, random_select_rate)\n",
    "        self.crossover(parents)\n",
    "        self.mutation(mutation_rate)\n",
    "    def gen_chromosome(self, length):\n",
    "        \"\"\"\n",
    "        隨機生成長度為length的染色體，每個基因的取值是0或1\n",
    "        這裡用一個bit表示一個基因\n",
    "        \"\"\"\n",
    "        chromosome = 0\n",
    "        for i in range(length):\n",
    "            # 這裡的或是整個二進位制比對的或|,比如10和1或下來的結果是11，  1001和101或的結果是1101，所以此處是個不斷隨機或出來的長度\n",
    "            chromosome |= (1 << i) * random.randint(0, 1)  # 這裡每次左移， 隨機生成一個0或者1的數字，這樣不斷左移生成給定長度的二進位制染色體\n",
    "\n",
    "        #print ('{0:b}'.format(chromosome))\n",
    "        print(\"gen_chromosome pass\")\n",
    "        return chromosome\n",
    "    def gen_population(self, length, count):\n",
    "        \"\"\"\n",
    "        獲取初始種群（一個含有count個長度為length的染色體的列表）\n",
    "        \"\"\"\n",
    "        po=[]\n",
    "        j=0\n",
    "        while j<=count:#保证染色体长度一致\n",
    "            chromosome=0\n",
    "            for i in range(length):\n",
    "                    # 這裡的或是整個二進位制比對的或|,比如10和1或下來的結果是11，  1001和101或的結果是1101，所以此處是個不斷隨機或出來的長度\n",
    "                    chromosome |= (1 << i) * random.randint(0, 1) \n",
    "                    #print('{0:b}'.format(chromosome))\n",
    "            string='{0:b}'.format(chromosome)\n",
    "            len_chromosome=len(string)\n",
    "            if len_chromosome==length:\n",
    "                po.append(chromosome)\n",
    "                j+=1\n",
    "\n",
    "            \n",
    "        print(\"gen_population pass\")\n",
    "        return po\n",
    "    def fitness(self, chromosome):\n",
    "            string='{0:b}'.format(chromosome)\n",
    "            print(\"所選擇的染色體：\")\n",
    "            print(string)\n",
    "            #檔案路徑\n",
    "            class_dirdata1='正手訓/'\n",
    "            class_dirdata2='反手訓/'\n",
    "            #特征篩選\n",
    "            class_data1,class_label1,class_data2,class_label2=classdatapredeal(class_dirdata1,class_dirdata2,string)\n",
    "            time_step=100#時間序列設置\n",
    "            #數據和標籤設定\n",
    "            class_All_data,class_All_label=classdataReorganization1(class_data1,class_label1,class_data2,class_label2,time_step)\n",
    "            #訓練集測試集分割\n",
    "            train_X,test_X, train_y, test_y=datasplit(class_All_data,class_All_label)\n",
    "            \n",
    "            print(train_X.shape)\n",
    "            \n",
    "            #print(train_X)\n",
    "            \n",
    "            #print(train_X[0][0])\n",
    "            \n",
    "            #print(train_X[0][0].shape)\n",
    "            \n",
    "            #模型訓練\n",
    "            timemodel=timeModel1(train_X,time_step)\n",
    "            history = timemodel.fit(train_X,train_y,epochs=50, validation_split=0.2,batch_size=100, verbose=1)\n",
    "            score = timemodel.evaluate(test_X, test_y, verbose=0)\n",
    "            \n",
    "            print(score[1])\n",
    "            print(\"fitness pass\")\n",
    "            return score[1]\n",
    "    def selection(self, retain_rate, random_select_rate):\n",
    "        \"\"\"\n",
    "        選擇\n",
    "        先對適應度從大到小排序，選出存活的染色體\n",
    "        再進行隨機選擇，選出適應度雖然小，但是倖存下來的個體\n",
    "        \"\"\"\n",
    "        # 對適應度從大到小進行排序\n",
    "        graded = [(self.fitness(chromosome), chromosome) for chromosome in self.population]  # 求出所有染色體的適應值列表\n",
    "        \n",
    "        print(graded)\n",
    "        graded = [x[1] for x in sorted(graded, reverse=True)]  # 從小到大排序，形成新列表\n",
    "        # 選出適應性強的染色體\n",
    "        retain_length = int(len(graded) * retain_rate)  # 根據比例值  找到前。個適應性強的染色體 作為下一代的父母親\n",
    "        parents = graded[:retain_length]\n",
    "        print(parents)\n",
    "        # 選出適應性不強，但是倖存的染色體        從後面中  隨機選取一比例   也放到父母親中\n",
    "        for chromosome in graded[retain_length:]:\n",
    "            if random.random() < random_select_rate:\n",
    "                parents.append(chromosome)\n",
    "        print(parents)\n",
    "        print(\"selection pass\")\n",
    "        return parents\n",
    "    def crossover(self, parents):\n",
    "        \"\"\"\n",
    "        染色體的交叉、繁殖，生成新一代的種群\n",
    "        \"\"\"\n",
    "        # 新出生的孩子，最終會被加入存活下來的父母之中，形成新一代的種群。\n",
    "        children = []\n",
    "        # 需要繁殖的孩子的量，差值，就是要交叉生成的目標數\n",
    "        target_count = len(self.population) - len(parents)\n",
    "        print(\"target_count:\")\n",
    "        print(target_count)\n",
    "        # 開始根據需要的量進行繁殖\n",
    "        while len(children) < target_count:\n",
    "            male = random.randint(0, len(parents) - 1)\n",
    "            female = random.randint(0, len(parents) - 1)\n",
    "            if male != female:  # 父母親序號不能相同\n",
    "                # 隨機選取交叉點\n",
    "                cross_pos = random.randint(0, self.length)\n",
    "                # 生成掩碼，方便位操作\n",
    "                mask = 0\n",
    "                for i in range(cross_pos):\n",
    "                    mask |= (1 << i)\n",
    "                male = parents[male]\n",
    "                female = parents[female]\n",
    "                # 孩子將獲得父親在交叉點前的基因和母親在交叉點後（包括交叉點）的基因\n",
    "                child = ((male & mask) | (female & ~mask)) & ((1 << self.length) - 1)\n",
    "                children.append(child)\n",
    "        # 經過繁殖後，孩子和父母的數量與原始種群數量相等，在這裡可以更新種群。\n",
    "        self.population = parents + children\n",
    "        for i in range(len(self.population)):\n",
    "            print(\"生成新一代的種群\")\n",
    "            print(\"染色體：\")\n",
    "            print(i)\n",
    "            print (self.population[i])\n",
    "            print ('{0:b}'.format(self.population[i]))\n",
    "        print(\"crossover pass\")\n",
    "    def mutation(self, rate):\n",
    "        \"\"\"\n",
    "        變異\n",
    "        對種群中的所有個體，隨機改變某個個體中的某個基因\n",
    "        \"\"\"\n",
    "        for i in range(len(self.population)):\n",
    "            if random.random() < rate:\n",
    "                j = random.randint(0, self.length - 1)\n",
    "                self.population[i] ^= 1 << j\n",
    "        for i in range(len(self.population)):\n",
    "            print(\"變異後的種群\")\n",
    "            print(\"染色體：\")\n",
    "            print(i)\n",
    "            print (self.population[i])\n",
    "            print ('{0:b}'.format(self.population[i]))\n",
    "        print(\"mutation pass\")\n",
    "    def decode(self, chromosome):\n",
    "            \"\"\"\n",
    "            解碼染色體，將二進位制轉化為屬於[0, 9]的實數\n",
    "            \"\"\"\n",
    "            print(\"decode pass\")\n",
    "            return chromosome * 9.0 / (2 ** self.length - 1)\n",
    "            \n",
    "    def result(self):\n",
    "        \"\"\"\n",
    "        獲得當前代的最優值，這裡取的是函式取最大值時x的值。\n",
    "        \"\"\"\n",
    "#         print (self.population[i])\n",
    "#         print ('{0:b}'.format(self.population[i]))\n",
    "        print(\"result pass\")\n",
    "        return '{0:b}'.format(self.population[0])"
   ]
  },
  {
   "cell_type": "markdown",
   "metadata": {},
   "source": [
    "# 合併演算法"
   ]
  },
  {
   "cell_type": "code",
   "execution_count": 41,
   "metadata": {
    "scrolled": true
   },
   "outputs": [
    {
     "name": "stdout",
     "output_type": "stream",
     "text": [
      "gen_population pass\n",
      "染色體：\n",
      "0\n",
      "1015345572933014\n",
      "11100110110111001110010000001100101110110110010110\n",
      "染色體：\n",
      "1\n",
      "597449706422239\n",
      "10000111110110000010011001100001011011111111011111\n",
      "染色體：\n",
      "2\n",
      "675163706037454\n",
      "10011001100000111011001100110111010001010011001110\n",
      "染色體：\n",
      "3\n",
      "763277591705581\n",
      "10101101100011001001101001101101111111011111101101\n",
      "染色體：\n",
      "4\n",
      "1045759325436402\n",
      "11101101110001110011010001000111001111100111110010\n",
      "染色體：\n",
      "5\n",
      "1019158526754399\n",
      "11100111101110101101010101111101001111111001011111\n",
      "染色體：\n",
      "6\n",
      "1079184628336305\n",
      "11110101011000001101000000011010110100011010110001\n",
      "染色體：\n",
      "7\n",
      "630243426653853\n",
      "10001111010011001111111011100100010101011010011101\n",
      "染色體：\n",
      "8\n",
      "734933558215968\n",
      "10100111000110101100001101101010111100010100100000\n",
      "染色體：\n",
      "9\n",
      "775221246910067\n",
      "10110000010000111101000011000010110101111001110011\n",
      "染色體：\n",
      "10\n",
      "1115926011338240\n",
      "11111101101110110111000101100000000101111000000000\n",
      "迭代次數： 0\n",
      "0\n",
      "所選擇的染色體：\n",
      "11100110110111001110010000001100101110110110010110\n",
      "23\n",
      "240\n",
      "200\n",
      "[[842.31366 842.25574 842.2272  ...   0.        0.        0.     ]\n",
      " [786.4423  789.2577  789.3059  ...   0.        0.        0.     ]\n",
      " [907.01166 906.9641  904.2041  ...   0.        0.        0.     ]\n",
      " ...\n",
      " [880.5698  880.48395 880.3809  ...   0.        0.        0.     ]\n",
      " [865.7729  859.95154 860.04517 ...   0.        0.        0.     ]\n",
      " [871.67523 871.6645  871.72784 ...   0.        0.        0.     ]]\n",
      "(240,)\n",
      "(240, 3240)\n"
     ]
    },
    {
     "name": "stderr",
     "output_type": "stream",
     "text": [
      "C:\\Users\\User\\anaconda3\\lib\\site-packages\\sklearn\\preprocessing\\_data.py:194: UserWarning: Numerical issues were encountered when centering the data and might not be solved. Dataset may contain too large values. You may need to prescale your features.\n",
      "  warnings.warn(\"Numerical issues were encountered \"\n",
      "C:\\Users\\User\\anaconda3\\lib\\site-packages\\sklearn\\preprocessing\\_data.py:211: UserWarning: Numerical issues were encountered when scaling the data and might not be solved. The standard deviation of the data is probably very close to 0. \n",
      "  warnings.warn(\"Numerical issues were encountered \"\n",
      "C:\\Users\\User\\anaconda3\\lib\\site-packages\\sklearn\\preprocessing\\_data.py:194: UserWarning: Numerical issues were encountered when centering the data and might not be solved. Dataset may contain too large values. You may need to prescale your features.\n",
      "  warnings.warn(\"Numerical issues were encountered \"\n",
      "C:\\Users\\User\\anaconda3\\lib\\site-packages\\sklearn\\preprocessing\\_data.py:211: UserWarning: Numerical issues were encountered when scaling the data and might not be solved. The standard deviation of the data is probably very close to 0. \n",
      "  warnings.warn(\"Numerical issues were encountered \"\n"
     ]
    },
    {
     "name": "stdout",
     "output_type": "stream",
     "text": [
      "(144, 100, 3240)\n",
      "Model: \"sequential_117\"\n",
      "_________________________________________________________________\n",
      "Layer (type)                 Output Shape              Param #   \n",
      "=================================================================\n",
      "lstm_234 (LSTM)              (None, 100, 20)           260880    \n",
      "_________________________________________________________________\n",
      "lstm_235 (LSTM)              (None, 20)                3280      \n",
      "_________________________________________________________________\n",
      "batch_normalization_117 (Bat (None, 20)                80        \n",
      "_________________________________________________________________\n",
      "dense_117 (Dense)            (None, 2)                 42        \n",
      "=================================================================\n",
      "Total params: 264,282\n",
      "Trainable params: 264,242\n",
      "Non-trainable params: 40\n",
      "_________________________________________________________________\n",
      "Epoch 1/50\n",
      "2/2 [==============================] - 0s 200ms/step - loss: 0.2936 - accuracy: 0.3826 - val_loss: 0.4322 - val_accuracy: 0.4138\n",
      "Epoch 2/50\n",
      "2/2 [==============================] - 0s 76ms/step - loss: 0.3026 - accuracy: 0.4957 - val_loss: 0.4221 - val_accuracy: 0.3103\n",
      "Epoch 3/50\n",
      "2/2 [==============================] - 0s 73ms/step - loss: 0.2730 - accuracy: 0.5217 - val_loss: 0.3773 - val_accuracy: 0.5172\n",
      "Epoch 4/50\n",
      "2/2 [==============================] - 0s 81ms/step - loss: 0.3234 - accuracy: 0.4522 - val_loss: 0.4343 - val_accuracy: 0.2759\n",
      "Epoch 5/50\n",
      "2/2 [==============================] - 0s 70ms/step - loss: 0.2798 - accuracy: 0.5130 - val_loss: 0.3693 - val_accuracy: 0.3448\n",
      "Epoch 6/50\n",
      "2/2 [==============================] - 0s 70ms/step - loss: 0.2617 - accuracy: 0.5652 - val_loss: 0.3196 - val_accuracy: 0.5517\n",
      "Epoch 7/50\n",
      "2/2 [==============================] - 0s 71ms/step - loss: 0.2691 - accuracy: 0.5913 - val_loss: 0.3063 - val_accuracy: 0.4828\n",
      "Epoch 8/50\n",
      "2/2 [==============================] - 0s 69ms/step - loss: 0.2593 - accuracy: 0.5652 - val_loss: 0.2549 - val_accuracy: 0.6552\n",
      "Epoch 9/50\n",
      "2/2 [==============================] - 0s 71ms/step - loss: 0.2817 - accuracy: 0.5217 - val_loss: 0.2587 - val_accuracy: 0.4828\n",
      "Epoch 10/50\n",
      "2/2 [==============================] - 0s 71ms/step - loss: 0.2967 - accuracy: 0.4870 - val_loss: 0.3529 - val_accuracy: 0.3103\n",
      "Epoch 11/50\n",
      "2/2 [==============================] - 0s 71ms/step - loss: 0.2966 - accuracy: 0.4957 - val_loss: 0.3249 - val_accuracy: 0.4138\n",
      "Epoch 12/50\n",
      "2/2 [==============================] - 0s 69ms/step - loss: 0.2974 - accuracy: 0.5217 - val_loss: 0.3031 - val_accuracy: 0.3793\n",
      "Epoch 13/50\n",
      "2/2 [==============================] - 0s 70ms/step - loss: 0.2832 - accuracy: 0.5391 - val_loss: 0.3371 - val_accuracy: 0.4483\n",
      "Epoch 14/50\n",
      "2/2 [==============================] - 0s 70ms/step - loss: 0.2766 - accuracy: 0.6696 - val_loss: 0.3655 - val_accuracy: 0.4828\n",
      "Epoch 15/50\n",
      "2/2 [==============================] - 0s 71ms/step - loss: 0.2564 - accuracy: 0.6435 - val_loss: 0.2899 - val_accuracy: 0.5172\n",
      "Epoch 16/50\n",
      "2/2 [==============================] - 0s 71ms/step - loss: 0.2970 - accuracy: 0.4957 - val_loss: 0.2734 - val_accuracy: 0.6897\n",
      "Epoch 17/50\n",
      "2/2 [==============================] - 0s 72ms/step - loss: 0.2835 - accuracy: 0.6174 - val_loss: 0.3606 - val_accuracy: 0.6207\n",
      "Epoch 18/50\n",
      "2/2 [==============================] - 0s 71ms/step - loss: 0.2706 - accuracy: 0.6000 - val_loss: 0.2740 - val_accuracy: 0.6552\n",
      "Epoch 19/50\n",
      "2/2 [==============================] - 0s 70ms/step - loss: 0.2932 - accuracy: 0.6435 - val_loss: 0.2960 - val_accuracy: 0.4483\n",
      "Epoch 20/50\n",
      "2/2 [==============================] - 0s 70ms/step - loss: 0.2832 - accuracy: 0.6087 - val_loss: 0.2873 - val_accuracy: 0.4828\n",
      "Epoch 21/50\n",
      "2/2 [==============================] - 0s 70ms/step - loss: 0.2770 - accuracy: 0.6609 - val_loss: 0.3228 - val_accuracy: 0.4138\n",
      "Epoch 22/50\n",
      "2/2 [==============================] - 0s 70ms/step - loss: 0.2781 - accuracy: 0.5391 - val_loss: 0.3052 - val_accuracy: 0.3793\n",
      "Epoch 23/50\n",
      "2/2 [==============================] - 0s 70ms/step - loss: 0.2916 - accuracy: 0.5304 - val_loss: 0.2837 - val_accuracy: 0.3793\n",
      "Epoch 24/50\n",
      "2/2 [==============================] - 0s 70ms/step - loss: 0.2954 - accuracy: 0.5739 - val_loss: 0.2677 - val_accuracy: 0.4138\n",
      "Epoch 25/50\n",
      "2/2 [==============================] - 0s 70ms/step - loss: 0.2696 - accuracy: 0.5391 - val_loss: 0.2870 - val_accuracy: 0.4483\n",
      "Epoch 26/50\n",
      "2/2 [==============================] - 0s 69ms/step - loss: 0.2627 - accuracy: 0.5826 - val_loss: 0.2579 - val_accuracy: 0.5172\n",
      "Epoch 27/50\n",
      "2/2 [==============================] - 0s 70ms/step - loss: 0.2580 - accuracy: 0.6435 - val_loss: 0.2607 - val_accuracy: 0.4828\n",
      "Epoch 28/50\n",
      "2/2 [==============================] - 0s 70ms/step - loss: 0.2639 - accuracy: 0.6000 - val_loss: 0.2891 - val_accuracy: 0.4828\n",
      "Epoch 29/50\n",
      "2/2 [==============================] - 0s 69ms/step - loss: 0.2639 - accuracy: 0.6348 - val_loss: 0.2693 - val_accuracy: 0.4138\n",
      "Epoch 30/50\n",
      "2/2 [==============================] - 0s 69ms/step - loss: 0.2624 - accuracy: 0.5826 - val_loss: 0.2763 - val_accuracy: 0.4828\n",
      "Epoch 31/50\n",
      "2/2 [==============================] - 0s 69ms/step - loss: 0.2713 - accuracy: 0.5652 - val_loss: 0.2591 - val_accuracy: 0.4828\n",
      "Epoch 32/50\n",
      "2/2 [==============================] - 0s 69ms/step - loss: 0.2683 - accuracy: 0.5913 - val_loss: 0.2542 - val_accuracy: 0.4138\n",
      "Epoch 33/50\n",
      "2/2 [==============================] - 0s 72ms/step - loss: 0.2774 - accuracy: 0.5130 - val_loss: 0.2660 - val_accuracy: 0.5172\n",
      "Epoch 34/50\n",
      "2/2 [==============================] - 0s 68ms/step - loss: 0.2575 - accuracy: 0.6087 - val_loss: 0.2608 - val_accuracy: 0.4828\n",
      "Epoch 35/50\n",
      "2/2 [==============================] - 0s 68ms/step - loss: 0.2652 - accuracy: 0.5391 - val_loss: 0.2667 - val_accuracy: 0.4138\n",
      "Epoch 36/50\n",
      "2/2 [==============================] - 0s 69ms/step - loss: 0.2527 - accuracy: 0.5478 - val_loss: 0.3127 - val_accuracy: 0.3448\n",
      "Epoch 37/50\n",
      "2/2 [==============================] - 0s 69ms/step - loss: 0.2529 - accuracy: 0.6087 - val_loss: 0.2944 - val_accuracy: 0.3793\n",
      "Epoch 38/50\n",
      "2/2 [==============================] - 0s 72ms/step - loss: 0.2647 - accuracy: 0.5391 - val_loss: 0.2872 - val_accuracy: 0.3793\n",
      "Epoch 39/50\n",
      "2/2 [==============================] - 0s 71ms/step - loss: 0.2530 - accuracy: 0.5739 - val_loss: 0.2800 - val_accuracy: 0.4138\n",
      "Epoch 40/50\n",
      "2/2 [==============================] - 0s 70ms/step - loss: 0.2549 - accuracy: 0.5652 - val_loss: 0.2663 - val_accuracy: 0.4138\n",
      "Epoch 41/50\n",
      "2/2 [==============================] - 0s 67ms/step - loss: 0.2586 - accuracy: 0.6000 - val_loss: 0.2801 - val_accuracy: 0.4483\n",
      "Epoch 42/50\n",
      "2/2 [==============================] - 0s 69ms/step - loss: 0.2587 - accuracy: 0.5913 - val_loss: 0.2992 - val_accuracy: 0.4828\n",
      "Epoch 43/50\n",
      "2/2 [==============================] - 0s 76ms/step - loss: 0.2679 - accuracy: 0.5913 - val_loss: 0.2639 - val_accuracy: 0.4138\n",
      "Epoch 44/50\n",
      "2/2 [==============================] - 0s 69ms/step - loss: 0.2833 - accuracy: 0.5217 - val_loss: 0.2714 - val_accuracy: 0.4828\n",
      "Epoch 45/50\n",
      "2/2 [==============================] - 0s 68ms/step - loss: 0.2841 - accuracy: 0.5478 - val_loss: 0.3134 - val_accuracy: 0.5862\n",
      "Epoch 46/50\n",
      "2/2 [==============================] - 0s 70ms/step - loss: 0.3116 - accuracy: 0.5565 - val_loss: 0.3932 - val_accuracy: 0.4483\n",
      "Epoch 47/50\n",
      "2/2 [==============================] - 0s 70ms/step - loss: 0.2848 - accuracy: 0.5652 - val_loss: 0.2707 - val_accuracy: 0.6207\n",
      "Epoch 48/50\n",
      "2/2 [==============================] - 0s 68ms/step - loss: 0.2644 - accuracy: 0.6261 - val_loss: 0.2977 - val_accuracy: 0.5517\n",
      "Epoch 49/50\n",
      "2/2 [==============================] - 0s 69ms/step - loss: 0.2866 - accuracy: 0.5826 - val_loss: 0.3479 - val_accuracy: 0.5172\n",
      "Epoch 50/50\n",
      "2/2 [==============================] - 0s 73ms/step - loss: 0.2962 - accuracy: 0.5739 - val_loss: 0.3128 - val_accuracy: 0.4138\n",
      "0.6041666865348816\n",
      "fitness pass\n",
      "所選擇的染色體：\n",
      "10000111110110000010011001100001011011111111011111\n",
      "21\n",
      "240\n",
      "200\n",
      "[[842.31366 842.25574 842.2272  ...   0.        0.        0.     ]\n",
      " [786.4423  789.2577  789.3059  ...   0.        0.        0.     ]\n",
      " [907.01166 906.9641  904.2041  ...   0.        0.        0.     ]\n",
      " ...\n",
      " [880.5698  880.48395 880.3809  ...   0.        0.        0.     ]\n",
      " [865.7729  859.95154 860.04517 ...   0.        0.        0.     ]\n",
      " [871.67523 871.6645  871.72784 ...   0.        0.        0.     ]]\n",
      "(240,)\n",
      "(240, 3480)\n"
     ]
    },
    {
     "name": "stderr",
     "output_type": "stream",
     "text": [
      "C:\\Users\\User\\anaconda3\\lib\\site-packages\\sklearn\\preprocessing\\_data.py:194: UserWarning: Numerical issues were encountered when centering the data and might not be solved. Dataset may contain too large values. You may need to prescale your features.\n",
      "  warnings.warn(\"Numerical issues were encountered \"\n",
      "C:\\Users\\User\\anaconda3\\lib\\site-packages\\sklearn\\preprocessing\\_data.py:211: UserWarning: Numerical issues were encountered when scaling the data and might not be solved. The standard deviation of the data is probably very close to 0. \n",
      "  warnings.warn(\"Numerical issues were encountered \"\n",
      "C:\\Users\\User\\anaconda3\\lib\\site-packages\\sklearn\\preprocessing\\_data.py:194: UserWarning: Numerical issues were encountered when centering the data and might not be solved. Dataset may contain too large values. You may need to prescale your features.\n",
      "  warnings.warn(\"Numerical issues were encountered \"\n",
      "C:\\Users\\User\\anaconda3\\lib\\site-packages\\sklearn\\preprocessing\\_data.py:211: UserWarning: Numerical issues were encountered when scaling the data and might not be solved. The standard deviation of the data is probably very close to 0. \n",
      "  warnings.warn(\"Numerical issues were encountered \"\n"
     ]
    },
    {
     "name": "stdout",
     "output_type": "stream",
     "text": [
      "(144, 100, 3480)\n",
      "Model: \"sequential_118\"\n",
      "_________________________________________________________________\n",
      "Layer (type)                 Output Shape              Param #   \n",
      "=================================================================\n",
      "lstm_236 (LSTM)              (None, 100, 20)           280080    \n",
      "_________________________________________________________________\n",
      "lstm_237 (LSTM)              (None, 20)                3280      \n",
      "_________________________________________________________________\n",
      "batch_normalization_118 (Bat (None, 20)                80        \n",
      "_________________________________________________________________\n",
      "dense_118 (Dense)            (None, 2)                 42        \n",
      "=================================================================\n",
      "Total params: 283,482\n",
      "Trainable params: 283,442\n",
      "Non-trainable params: 40\n",
      "_________________________________________________________________\n",
      "Epoch 1/50\n",
      "2/2 [==============================] - 0s 200ms/step - loss: 0.3261 - accuracy: 0.5478 - val_loss: 0.3761 - val_accuracy: 0.4828\n",
      "Epoch 2/50\n",
      "2/2 [==============================] - 0s 85ms/step - loss: 0.2593 - accuracy: 0.5826 - val_loss: 0.2632 - val_accuracy: 0.7586\n",
      "Epoch 3/50\n",
      "2/2 [==============================] - 0s 86ms/step - loss: 0.2346 - accuracy: 0.7130 - val_loss: 0.4188 - val_accuracy: 0.5172\n",
      "Epoch 4/50\n",
      "2/2 [==============================] - 0s 86ms/step - loss: 0.3095 - accuracy: 0.4000 - val_loss: 0.3242 - val_accuracy: 0.6897\n",
      "Epoch 5/50\n",
      "2/2 [==============================] - 0s 85ms/step - loss: 0.3129 - accuracy: 0.4174 - val_loss: 0.3962 - val_accuracy: 0.5172\n",
      "Epoch 6/50\n",
      "2/2 [==============================] - ETA: 0s - loss: 0.3116 - accuracy: 0.3478"
     ]
    },
    {
     "ename": "KeyboardInterrupt",
     "evalue": "",
     "output_type": "error",
     "traceback": [
      "\u001b[1;31m---------------------------------------------------------------------------\u001b[0m",
      "\u001b[1;31mKeyboardInterrupt\u001b[0m                         Traceback (most recent call last)",
      "\u001b[1;32m<ipython-input-41-b346aa07619b>\u001b[0m in \u001b[0;36m<module>\u001b[1;34m\u001b[0m\n\u001b[0;32m      8\u001b[0m         \u001b[0mprint\u001b[0m\u001b[1;33m(\u001b[0m\u001b[1;34m\"迭代次數：\"\u001b[0m\u001b[1;33m,\u001b[0m\u001b[0mx\u001b[0m\u001b[1;33m)\u001b[0m\u001b[1;33m\u001b[0m\u001b[1;33m\u001b[0m\u001b[0m\n\u001b[0;32m      9\u001b[0m         \u001b[0mprint\u001b[0m\u001b[1;33m(\u001b[0m\u001b[0mx\u001b[0m\u001b[1;33m)\u001b[0m\u001b[1;33m\u001b[0m\u001b[1;33m\u001b[0m\u001b[0m\n\u001b[1;32m---> 10\u001b[1;33m         \u001b[0mga\u001b[0m\u001b[1;33m.\u001b[0m\u001b[0mevolve\u001b[0m\u001b[1;33m(\u001b[0m\u001b[1;33m)\u001b[0m\u001b[1;33m\u001b[0m\u001b[1;33m\u001b[0m\u001b[0m\n\u001b[0m\u001b[0;32m     11\u001b[0m \u001b[1;33m\u001b[0m\u001b[0m\n",
      "\u001b[1;32m<ipython-input-40-d35ff965517e>\u001b[0m in \u001b[0;36mevolve\u001b[1;34m(self, retain_rate, random_select_rate, mutation_rate)\u001b[0m\n\u001b[0;32m     19\u001b[0m         \u001b[0m對當前一代種群依次進行選擇\u001b[0m\u001b[0;31m、\u001b[0m\u001b[0m交叉並生成新一代種群\u001b[0m\u001b[0;31m，\u001b[0m\u001b[0m然後對新一代種群進行變異\u001b[0m\u001b[1;33m\u001b[0m\u001b[1;33m\u001b[0m\u001b[0m\n\u001b[0;32m     20\u001b[0m         \"\"\"\n\u001b[1;32m---> 21\u001b[1;33m         \u001b[0mparents\u001b[0m \u001b[1;33m=\u001b[0m \u001b[0mself\u001b[0m\u001b[1;33m.\u001b[0m\u001b[0mselection\u001b[0m\u001b[1;33m(\u001b[0m\u001b[0mretain_rate\u001b[0m\u001b[1;33m,\u001b[0m \u001b[0mrandom_select_rate\u001b[0m\u001b[1;33m)\u001b[0m\u001b[1;33m\u001b[0m\u001b[1;33m\u001b[0m\u001b[0m\n\u001b[0m\u001b[0;32m     22\u001b[0m         \u001b[0mself\u001b[0m\u001b[1;33m.\u001b[0m\u001b[0mcrossover\u001b[0m\u001b[1;33m(\u001b[0m\u001b[0mparents\u001b[0m\u001b[1;33m)\u001b[0m\u001b[1;33m\u001b[0m\u001b[1;33m\u001b[0m\u001b[0m\n\u001b[0;32m     23\u001b[0m         \u001b[0mself\u001b[0m\u001b[1;33m.\u001b[0m\u001b[0mmutation\u001b[0m\u001b[1;33m(\u001b[0m\u001b[0mmutation_rate\u001b[0m\u001b[1;33m)\u001b[0m\u001b[1;33m\u001b[0m\u001b[1;33m\u001b[0m\u001b[0m\n",
      "\u001b[1;32m<ipython-input-40-d35ff965517e>\u001b[0m in \u001b[0;36mselection\u001b[1;34m(self, retain_rate, random_select_rate)\u001b[0m\n\u001b[0;32m     94\u001b[0m         \"\"\"\n\u001b[0;32m     95\u001b[0m         \u001b[1;31m# 對適應度從大到小進行排序\u001b[0m\u001b[1;33m\u001b[0m\u001b[1;33m\u001b[0m\u001b[1;33m\u001b[0m\u001b[0m\n\u001b[1;32m---> 96\u001b[1;33m         \u001b[0mgraded\u001b[0m \u001b[1;33m=\u001b[0m \u001b[1;33m[\u001b[0m\u001b[1;33m(\u001b[0m\u001b[0mself\u001b[0m\u001b[1;33m.\u001b[0m\u001b[0mfitness\u001b[0m\u001b[1;33m(\u001b[0m\u001b[0mchromosome\u001b[0m\u001b[1;33m)\u001b[0m\u001b[1;33m,\u001b[0m \u001b[0mchromosome\u001b[0m\u001b[1;33m)\u001b[0m \u001b[1;32mfor\u001b[0m \u001b[0mchromosome\u001b[0m \u001b[1;32min\u001b[0m \u001b[0mself\u001b[0m\u001b[1;33m.\u001b[0m\u001b[0mpopulation\u001b[0m\u001b[1;33m]\u001b[0m  \u001b[1;31m# 求出所有染色體的適應值列表\u001b[0m\u001b[1;33m\u001b[0m\u001b[1;33m\u001b[0m\u001b[0m\n\u001b[0m\u001b[0;32m     97\u001b[0m \u001b[1;33m\u001b[0m\u001b[0m\n\u001b[0;32m     98\u001b[0m         \u001b[0mprint\u001b[0m\u001b[1;33m(\u001b[0m\u001b[0mgraded\u001b[0m\u001b[1;33m)\u001b[0m\u001b[1;33m\u001b[0m\u001b[1;33m\u001b[0m\u001b[0m\n",
      "\u001b[1;32m<ipython-input-40-d35ff965517e>\u001b[0m in \u001b[0;36m<listcomp>\u001b[1;34m(.0)\u001b[0m\n\u001b[0;32m     94\u001b[0m         \"\"\"\n\u001b[0;32m     95\u001b[0m         \u001b[1;31m# 對適應度從大到小進行排序\u001b[0m\u001b[1;33m\u001b[0m\u001b[1;33m\u001b[0m\u001b[1;33m\u001b[0m\u001b[0m\n\u001b[1;32m---> 96\u001b[1;33m         \u001b[0mgraded\u001b[0m \u001b[1;33m=\u001b[0m \u001b[1;33m[\u001b[0m\u001b[1;33m(\u001b[0m\u001b[0mself\u001b[0m\u001b[1;33m.\u001b[0m\u001b[0mfitness\u001b[0m\u001b[1;33m(\u001b[0m\u001b[0mchromosome\u001b[0m\u001b[1;33m)\u001b[0m\u001b[1;33m,\u001b[0m \u001b[0mchromosome\u001b[0m\u001b[1;33m)\u001b[0m \u001b[1;32mfor\u001b[0m \u001b[0mchromosome\u001b[0m \u001b[1;32min\u001b[0m \u001b[0mself\u001b[0m\u001b[1;33m.\u001b[0m\u001b[0mpopulation\u001b[0m\u001b[1;33m]\u001b[0m  \u001b[1;31m# 求出所有染色體的適應值列表\u001b[0m\u001b[1;33m\u001b[0m\u001b[1;33m\u001b[0m\u001b[0m\n\u001b[0m\u001b[0;32m     97\u001b[0m \u001b[1;33m\u001b[0m\u001b[0m\n\u001b[0;32m     98\u001b[0m         \u001b[0mprint\u001b[0m\u001b[1;33m(\u001b[0m\u001b[0mgraded\u001b[0m\u001b[1;33m)\u001b[0m\u001b[1;33m\u001b[0m\u001b[1;33m\u001b[0m\u001b[0m\n",
      "\u001b[1;32m<ipython-input-40-d35ff965517e>\u001b[0m in \u001b[0;36mfitness\u001b[1;34m(self, chromosome)\u001b[0m\n\u001b[0;32m     81\u001b[0m             \u001b[1;31m#模型訓練\u001b[0m\u001b[1;33m\u001b[0m\u001b[1;33m\u001b[0m\u001b[1;33m\u001b[0m\u001b[0m\n\u001b[0;32m     82\u001b[0m             \u001b[0mtimemodel\u001b[0m\u001b[1;33m=\u001b[0m\u001b[0mtimeModel1\u001b[0m\u001b[1;33m(\u001b[0m\u001b[0mtrain_X\u001b[0m\u001b[1;33m,\u001b[0m\u001b[0mtime_step\u001b[0m\u001b[1;33m)\u001b[0m\u001b[1;33m\u001b[0m\u001b[1;33m\u001b[0m\u001b[0m\n\u001b[1;32m---> 83\u001b[1;33m             \u001b[0mhistory\u001b[0m \u001b[1;33m=\u001b[0m \u001b[0mtimemodel\u001b[0m\u001b[1;33m.\u001b[0m\u001b[0mfit\u001b[0m\u001b[1;33m(\u001b[0m\u001b[0mtrain_X\u001b[0m\u001b[1;33m,\u001b[0m\u001b[0mtrain_y\u001b[0m\u001b[1;33m,\u001b[0m\u001b[0mepochs\u001b[0m\u001b[1;33m=\u001b[0m\u001b[1;36m50\u001b[0m\u001b[1;33m,\u001b[0m \u001b[0mvalidation_split\u001b[0m\u001b[1;33m=\u001b[0m\u001b[1;36m0.2\u001b[0m\u001b[1;33m,\u001b[0m\u001b[0mbatch_size\u001b[0m\u001b[1;33m=\u001b[0m\u001b[1;36m100\u001b[0m\u001b[1;33m,\u001b[0m \u001b[0mverbose\u001b[0m\u001b[1;33m=\u001b[0m\u001b[1;36m1\u001b[0m\u001b[1;33m)\u001b[0m\u001b[1;33m\u001b[0m\u001b[1;33m\u001b[0m\u001b[0m\n\u001b[0m\u001b[0;32m     84\u001b[0m             \u001b[0mscore\u001b[0m \u001b[1;33m=\u001b[0m \u001b[0mtimemodel\u001b[0m\u001b[1;33m.\u001b[0m\u001b[0mevaluate\u001b[0m\u001b[1;33m(\u001b[0m\u001b[0mtest_X\u001b[0m\u001b[1;33m,\u001b[0m \u001b[0mtest_y\u001b[0m\u001b[1;33m,\u001b[0m \u001b[0mverbose\u001b[0m\u001b[1;33m=\u001b[0m\u001b[1;36m0\u001b[0m\u001b[1;33m)\u001b[0m\u001b[1;33m\u001b[0m\u001b[1;33m\u001b[0m\u001b[0m\n\u001b[0;32m     85\u001b[0m \u001b[1;33m\u001b[0m\u001b[0m\n",
      "\u001b[1;32m~\\anaconda3\\lib\\site-packages\\tensorflow\\python\\keras\\engine\\training.py\u001b[0m in \u001b[0;36m_method_wrapper\u001b[1;34m(self, *args, **kwargs)\u001b[0m\n\u001b[0;32m    106\u001b[0m   \u001b[1;32mdef\u001b[0m \u001b[0m_method_wrapper\u001b[0m\u001b[1;33m(\u001b[0m\u001b[0mself\u001b[0m\u001b[1;33m,\u001b[0m \u001b[1;33m*\u001b[0m\u001b[0margs\u001b[0m\u001b[1;33m,\u001b[0m \u001b[1;33m**\u001b[0m\u001b[0mkwargs\u001b[0m\u001b[1;33m)\u001b[0m\u001b[1;33m:\u001b[0m\u001b[1;33m\u001b[0m\u001b[1;33m\u001b[0m\u001b[0m\n\u001b[0;32m    107\u001b[0m     \u001b[1;32mif\u001b[0m \u001b[1;32mnot\u001b[0m \u001b[0mself\u001b[0m\u001b[1;33m.\u001b[0m\u001b[0m_in_multi_worker_mode\u001b[0m\u001b[1;33m(\u001b[0m\u001b[1;33m)\u001b[0m\u001b[1;33m:\u001b[0m  \u001b[1;31m# pylint: disable=protected-access\u001b[0m\u001b[1;33m\u001b[0m\u001b[1;33m\u001b[0m\u001b[0m\n\u001b[1;32m--> 108\u001b[1;33m       \u001b[1;32mreturn\u001b[0m \u001b[0mmethod\u001b[0m\u001b[1;33m(\u001b[0m\u001b[0mself\u001b[0m\u001b[1;33m,\u001b[0m \u001b[1;33m*\u001b[0m\u001b[0margs\u001b[0m\u001b[1;33m,\u001b[0m \u001b[1;33m**\u001b[0m\u001b[0mkwargs\u001b[0m\u001b[1;33m)\u001b[0m\u001b[1;33m\u001b[0m\u001b[1;33m\u001b[0m\u001b[0m\n\u001b[0m\u001b[0;32m    109\u001b[0m \u001b[1;33m\u001b[0m\u001b[0m\n\u001b[0;32m    110\u001b[0m     \u001b[1;31m# Running inside `run_distribute_coordinator` already.\u001b[0m\u001b[1;33m\u001b[0m\u001b[1;33m\u001b[0m\u001b[1;33m\u001b[0m\u001b[0m\n",
      "\u001b[1;32m~\\anaconda3\\lib\\site-packages\\tensorflow\\python\\keras\\engine\\training.py\u001b[0m in \u001b[0;36mfit\u001b[1;34m(self, x, y, batch_size, epochs, verbose, callbacks, validation_split, validation_data, shuffle, class_weight, sample_weight, initial_epoch, steps_per_epoch, validation_steps, validation_batch_size, validation_freq, max_queue_size, workers, use_multiprocessing)\u001b[0m\n\u001b[0;32m   1121\u001b[0m                 \u001b[0mmodel\u001b[0m\u001b[1;33m=\u001b[0m\u001b[0mself\u001b[0m\u001b[1;33m,\u001b[0m\u001b[1;33m\u001b[0m\u001b[1;33m\u001b[0m\u001b[0m\n\u001b[0;32m   1122\u001b[0m                 steps_per_execution=self._steps_per_execution)\n\u001b[1;32m-> 1123\u001b[1;33m           val_logs = self.evaluate(\n\u001b[0m\u001b[0;32m   1124\u001b[0m               \u001b[0mx\u001b[0m\u001b[1;33m=\u001b[0m\u001b[0mval_x\u001b[0m\u001b[1;33m,\u001b[0m\u001b[1;33m\u001b[0m\u001b[1;33m\u001b[0m\u001b[0m\n\u001b[0;32m   1125\u001b[0m               \u001b[0my\u001b[0m\u001b[1;33m=\u001b[0m\u001b[0mval_y\u001b[0m\u001b[1;33m,\u001b[0m\u001b[1;33m\u001b[0m\u001b[1;33m\u001b[0m\u001b[0m\n",
      "\u001b[1;32m~\\anaconda3\\lib\\site-packages\\tensorflow\\python\\keras\\engine\\training.py\u001b[0m in \u001b[0;36m_method_wrapper\u001b[1;34m(self, *args, **kwargs)\u001b[0m\n\u001b[0;32m    106\u001b[0m   \u001b[1;32mdef\u001b[0m \u001b[0m_method_wrapper\u001b[0m\u001b[1;33m(\u001b[0m\u001b[0mself\u001b[0m\u001b[1;33m,\u001b[0m \u001b[1;33m*\u001b[0m\u001b[0margs\u001b[0m\u001b[1;33m,\u001b[0m \u001b[1;33m**\u001b[0m\u001b[0mkwargs\u001b[0m\u001b[1;33m)\u001b[0m\u001b[1;33m:\u001b[0m\u001b[1;33m\u001b[0m\u001b[1;33m\u001b[0m\u001b[0m\n\u001b[0;32m    107\u001b[0m     \u001b[1;32mif\u001b[0m \u001b[1;32mnot\u001b[0m \u001b[0mself\u001b[0m\u001b[1;33m.\u001b[0m\u001b[0m_in_multi_worker_mode\u001b[0m\u001b[1;33m(\u001b[0m\u001b[1;33m)\u001b[0m\u001b[1;33m:\u001b[0m  \u001b[1;31m# pylint: disable=protected-access\u001b[0m\u001b[1;33m\u001b[0m\u001b[1;33m\u001b[0m\u001b[0m\n\u001b[1;32m--> 108\u001b[1;33m       \u001b[1;32mreturn\u001b[0m \u001b[0mmethod\u001b[0m\u001b[1;33m(\u001b[0m\u001b[0mself\u001b[0m\u001b[1;33m,\u001b[0m \u001b[1;33m*\u001b[0m\u001b[0margs\u001b[0m\u001b[1;33m,\u001b[0m \u001b[1;33m**\u001b[0m\u001b[0mkwargs\u001b[0m\u001b[1;33m)\u001b[0m\u001b[1;33m\u001b[0m\u001b[1;33m\u001b[0m\u001b[0m\n\u001b[0m\u001b[0;32m    109\u001b[0m \u001b[1;33m\u001b[0m\u001b[0m\n\u001b[0;32m    110\u001b[0m     \u001b[1;31m# Running inside `run_distribute_coordinator` already.\u001b[0m\u001b[1;33m\u001b[0m\u001b[1;33m\u001b[0m\u001b[1;33m\u001b[0m\u001b[0m\n",
      "\u001b[1;32m~\\anaconda3\\lib\\site-packages\\tensorflow\\python\\keras\\engine\\training.py\u001b[0m in \u001b[0;36mevaluate\u001b[1;34m(self, x, y, batch_size, verbose, sample_weight, steps, callbacks, max_queue_size, workers, use_multiprocessing, return_dict)\u001b[0m\n\u001b[0;32m   1377\u001b[0m             \u001b[1;32mwith\u001b[0m \u001b[0mtrace\u001b[0m\u001b[1;33m.\u001b[0m\u001b[0mTrace\u001b[0m\u001b[1;33m(\u001b[0m\u001b[1;34m'TraceContext'\u001b[0m\u001b[1;33m,\u001b[0m \u001b[0mgraph_type\u001b[0m\u001b[1;33m=\u001b[0m\u001b[1;34m'test'\u001b[0m\u001b[1;33m,\u001b[0m \u001b[0mstep_num\u001b[0m\u001b[1;33m=\u001b[0m\u001b[0mstep\u001b[0m\u001b[1;33m)\u001b[0m\u001b[1;33m:\u001b[0m\u001b[1;33m\u001b[0m\u001b[1;33m\u001b[0m\u001b[0m\n\u001b[0;32m   1378\u001b[0m               \u001b[0mcallbacks\u001b[0m\u001b[1;33m.\u001b[0m\u001b[0mon_test_batch_begin\u001b[0m\u001b[1;33m(\u001b[0m\u001b[0mstep\u001b[0m\u001b[1;33m)\u001b[0m\u001b[1;33m\u001b[0m\u001b[1;33m\u001b[0m\u001b[0m\n\u001b[1;32m-> 1379\u001b[1;33m               \u001b[0mtmp_logs\u001b[0m \u001b[1;33m=\u001b[0m \u001b[0mtest_function\u001b[0m\u001b[1;33m(\u001b[0m\u001b[0miterator\u001b[0m\u001b[1;33m)\u001b[0m\u001b[1;33m\u001b[0m\u001b[1;33m\u001b[0m\u001b[0m\n\u001b[0m\u001b[0;32m   1380\u001b[0m               \u001b[1;32mif\u001b[0m \u001b[0mdata_handler\u001b[0m\u001b[1;33m.\u001b[0m\u001b[0mshould_sync\u001b[0m\u001b[1;33m:\u001b[0m\u001b[1;33m\u001b[0m\u001b[1;33m\u001b[0m\u001b[0m\n\u001b[0;32m   1381\u001b[0m                 \u001b[0mcontext\u001b[0m\u001b[1;33m.\u001b[0m\u001b[0masync_wait\u001b[0m\u001b[1;33m(\u001b[0m\u001b[1;33m)\u001b[0m\u001b[1;33m\u001b[0m\u001b[1;33m\u001b[0m\u001b[0m\n",
      "\u001b[1;32m~\\anaconda3\\lib\\site-packages\\tensorflow\\python\\eager\\def_function.py\u001b[0m in \u001b[0;36m__call__\u001b[1;34m(self, *args, **kwds)\u001b[0m\n\u001b[0;32m    778\u001b[0m       \u001b[1;32melse\u001b[0m\u001b[1;33m:\u001b[0m\u001b[1;33m\u001b[0m\u001b[1;33m\u001b[0m\u001b[0m\n\u001b[0;32m    779\u001b[0m         \u001b[0mcompiler\u001b[0m \u001b[1;33m=\u001b[0m \u001b[1;34m\"nonXla\"\u001b[0m\u001b[1;33m\u001b[0m\u001b[1;33m\u001b[0m\u001b[0m\n\u001b[1;32m--> 780\u001b[1;33m         \u001b[0mresult\u001b[0m \u001b[1;33m=\u001b[0m \u001b[0mself\u001b[0m\u001b[1;33m.\u001b[0m\u001b[0m_call\u001b[0m\u001b[1;33m(\u001b[0m\u001b[1;33m*\u001b[0m\u001b[0margs\u001b[0m\u001b[1;33m,\u001b[0m \u001b[1;33m**\u001b[0m\u001b[0mkwds\u001b[0m\u001b[1;33m)\u001b[0m\u001b[1;33m\u001b[0m\u001b[1;33m\u001b[0m\u001b[0m\n\u001b[0m\u001b[0;32m    781\u001b[0m \u001b[1;33m\u001b[0m\u001b[0m\n\u001b[0;32m    782\u001b[0m       \u001b[0mnew_tracing_count\u001b[0m \u001b[1;33m=\u001b[0m \u001b[0mself\u001b[0m\u001b[1;33m.\u001b[0m\u001b[0m_get_tracing_count\u001b[0m\u001b[1;33m(\u001b[0m\u001b[1;33m)\u001b[0m\u001b[1;33m\u001b[0m\u001b[1;33m\u001b[0m\u001b[0m\n",
      "\u001b[1;32m~\\anaconda3\\lib\\site-packages\\tensorflow\\python\\eager\\def_function.py\u001b[0m in \u001b[0;36m_call\u001b[1;34m(self, *args, **kwds)\u001b[0m\n\u001b[0;32m    812\u001b[0m       \u001b[1;31m# In this case we have not created variables on the first call. So we can\u001b[0m\u001b[1;33m\u001b[0m\u001b[1;33m\u001b[0m\u001b[1;33m\u001b[0m\u001b[0m\n\u001b[0;32m    813\u001b[0m       \u001b[1;31m# run the first trace but we should fail if variables are created.\u001b[0m\u001b[1;33m\u001b[0m\u001b[1;33m\u001b[0m\u001b[1;33m\u001b[0m\u001b[0m\n\u001b[1;32m--> 814\u001b[1;33m       \u001b[0mresults\u001b[0m \u001b[1;33m=\u001b[0m \u001b[0mself\u001b[0m\u001b[1;33m.\u001b[0m\u001b[0m_stateful_fn\u001b[0m\u001b[1;33m(\u001b[0m\u001b[1;33m*\u001b[0m\u001b[0margs\u001b[0m\u001b[1;33m,\u001b[0m \u001b[1;33m**\u001b[0m\u001b[0mkwds\u001b[0m\u001b[1;33m)\u001b[0m\u001b[1;33m\u001b[0m\u001b[1;33m\u001b[0m\u001b[0m\n\u001b[0m\u001b[0;32m    815\u001b[0m       \u001b[1;32mif\u001b[0m \u001b[0mself\u001b[0m\u001b[1;33m.\u001b[0m\u001b[0m_created_variables\u001b[0m\u001b[1;33m:\u001b[0m\u001b[1;33m\u001b[0m\u001b[1;33m\u001b[0m\u001b[0m\n\u001b[0;32m    816\u001b[0m         raise ValueError(\"Creating variables on a non-first call to a function\"\n",
      "\u001b[1;32m~\\anaconda3\\lib\\site-packages\\tensorflow\\python\\eager\\function.py\u001b[0m in \u001b[0;36m__call__\u001b[1;34m(self, *args, **kwargs)\u001b[0m\n\u001b[0;32m   2827\u001b[0m     \u001b[1;32mwith\u001b[0m \u001b[0mself\u001b[0m\u001b[1;33m.\u001b[0m\u001b[0m_lock\u001b[0m\u001b[1;33m:\u001b[0m\u001b[1;33m\u001b[0m\u001b[1;33m\u001b[0m\u001b[0m\n\u001b[0;32m   2828\u001b[0m       \u001b[0mgraph_function\u001b[0m\u001b[1;33m,\u001b[0m \u001b[0margs\u001b[0m\u001b[1;33m,\u001b[0m \u001b[0mkwargs\u001b[0m \u001b[1;33m=\u001b[0m \u001b[0mself\u001b[0m\u001b[1;33m.\u001b[0m\u001b[0m_maybe_define_function\u001b[0m\u001b[1;33m(\u001b[0m\u001b[0margs\u001b[0m\u001b[1;33m,\u001b[0m \u001b[0mkwargs\u001b[0m\u001b[1;33m)\u001b[0m\u001b[1;33m\u001b[0m\u001b[1;33m\u001b[0m\u001b[0m\n\u001b[1;32m-> 2829\u001b[1;33m     \u001b[1;32mreturn\u001b[0m \u001b[0mgraph_function\u001b[0m\u001b[1;33m.\u001b[0m\u001b[0m_filtered_call\u001b[0m\u001b[1;33m(\u001b[0m\u001b[0margs\u001b[0m\u001b[1;33m,\u001b[0m \u001b[0mkwargs\u001b[0m\u001b[1;33m)\u001b[0m  \u001b[1;31m# pylint: disable=protected-access\u001b[0m\u001b[1;33m\u001b[0m\u001b[1;33m\u001b[0m\u001b[0m\n\u001b[0m\u001b[0;32m   2830\u001b[0m \u001b[1;33m\u001b[0m\u001b[0m\n\u001b[0;32m   2831\u001b[0m   \u001b[1;33m@\u001b[0m\u001b[0mproperty\u001b[0m\u001b[1;33m\u001b[0m\u001b[1;33m\u001b[0m\u001b[0m\n",
      "\u001b[1;32m~\\anaconda3\\lib\\site-packages\\tensorflow\\python\\eager\\function.py\u001b[0m in \u001b[0;36m_filtered_call\u001b[1;34m(self, args, kwargs, cancellation_manager)\u001b[0m\n\u001b[0;32m   1841\u001b[0m       \u001b[0;31m`\u001b[0m\u001b[0margs\u001b[0m\u001b[0;31m`\u001b[0m \u001b[1;32mand\u001b[0m\u001b[0;31m \u001b[0m\u001b[0;31m`\u001b[0m\u001b[0mkwargs\u001b[0m\u001b[0;31m`\u001b[0m\u001b[1;33m.\u001b[0m\u001b[1;33m\u001b[0m\u001b[1;33m\u001b[0m\u001b[0m\n\u001b[0;32m   1842\u001b[0m     \"\"\"\n\u001b[1;32m-> 1843\u001b[1;33m     return self._call_flat(\n\u001b[0m\u001b[0;32m   1844\u001b[0m         [t for t in nest.flatten((args, kwargs), expand_composites=True)\n\u001b[0;32m   1845\u001b[0m          if isinstance(t, (ops.Tensor,\n",
      "\u001b[1;32m~\\anaconda3\\lib\\site-packages\\tensorflow\\python\\eager\\function.py\u001b[0m in \u001b[0;36m_call_flat\u001b[1;34m(self, args, captured_inputs, cancellation_manager)\u001b[0m\n\u001b[0;32m   1921\u001b[0m         and executing_eagerly):\n\u001b[0;32m   1922\u001b[0m       \u001b[1;31m# No tape is watching; skip to running the function.\u001b[0m\u001b[1;33m\u001b[0m\u001b[1;33m\u001b[0m\u001b[1;33m\u001b[0m\u001b[0m\n\u001b[1;32m-> 1923\u001b[1;33m       return self._build_call_outputs(self._inference_function.call(\n\u001b[0m\u001b[0;32m   1924\u001b[0m           ctx, args, cancellation_manager=cancellation_manager))\n\u001b[0;32m   1925\u001b[0m     forward_backward = self._select_forward_and_backward_functions(\n",
      "\u001b[1;32m~\\anaconda3\\lib\\site-packages\\tensorflow\\python\\eager\\function.py\u001b[0m in \u001b[0;36mcall\u001b[1;34m(self, ctx, args, cancellation_manager)\u001b[0m\n\u001b[0;32m    543\u001b[0m       \u001b[1;32mwith\u001b[0m \u001b[0m_InterpolateFunctionError\u001b[0m\u001b[1;33m(\u001b[0m\u001b[0mself\u001b[0m\u001b[1;33m)\u001b[0m\u001b[1;33m:\u001b[0m\u001b[1;33m\u001b[0m\u001b[1;33m\u001b[0m\u001b[0m\n\u001b[0;32m    544\u001b[0m         \u001b[1;32mif\u001b[0m \u001b[0mcancellation_manager\u001b[0m \u001b[1;32mis\u001b[0m \u001b[1;32mNone\u001b[0m\u001b[1;33m:\u001b[0m\u001b[1;33m\u001b[0m\u001b[1;33m\u001b[0m\u001b[0m\n\u001b[1;32m--> 545\u001b[1;33m           outputs = execute.execute(\n\u001b[0m\u001b[0;32m    546\u001b[0m               \u001b[0mstr\u001b[0m\u001b[1;33m(\u001b[0m\u001b[0mself\u001b[0m\u001b[1;33m.\u001b[0m\u001b[0msignature\u001b[0m\u001b[1;33m.\u001b[0m\u001b[0mname\u001b[0m\u001b[1;33m)\u001b[0m\u001b[1;33m,\u001b[0m\u001b[1;33m\u001b[0m\u001b[1;33m\u001b[0m\u001b[0m\n\u001b[0;32m    547\u001b[0m               \u001b[0mnum_outputs\u001b[0m\u001b[1;33m=\u001b[0m\u001b[0mself\u001b[0m\u001b[1;33m.\u001b[0m\u001b[0m_num_outputs\u001b[0m\u001b[1;33m,\u001b[0m\u001b[1;33m\u001b[0m\u001b[1;33m\u001b[0m\u001b[0m\n",
      "\u001b[1;32m~\\anaconda3\\lib\\site-packages\\tensorflow\\python\\eager\\execute.py\u001b[0m in \u001b[0;36mquick_execute\u001b[1;34m(op_name, num_outputs, inputs, attrs, ctx, name)\u001b[0m\n\u001b[0;32m     57\u001b[0m   \u001b[1;32mtry\u001b[0m\u001b[1;33m:\u001b[0m\u001b[1;33m\u001b[0m\u001b[1;33m\u001b[0m\u001b[0m\n\u001b[0;32m     58\u001b[0m     \u001b[0mctx\u001b[0m\u001b[1;33m.\u001b[0m\u001b[0mensure_initialized\u001b[0m\u001b[1;33m(\u001b[0m\u001b[1;33m)\u001b[0m\u001b[1;33m\u001b[0m\u001b[1;33m\u001b[0m\u001b[0m\n\u001b[1;32m---> 59\u001b[1;33m     tensors = pywrap_tfe.TFE_Py_Execute(ctx._handle, device_name, op_name,\n\u001b[0m\u001b[0;32m     60\u001b[0m                                         inputs, attrs, num_outputs)\n\u001b[0;32m     61\u001b[0m   \u001b[1;32mexcept\u001b[0m \u001b[0mcore\u001b[0m\u001b[1;33m.\u001b[0m\u001b[0m_NotOkStatusException\u001b[0m \u001b[1;32mas\u001b[0m \u001b[0me\u001b[0m\u001b[1;33m:\u001b[0m\u001b[1;33m\u001b[0m\u001b[1;33m\u001b[0m\u001b[0m\n",
      "\u001b[1;31mKeyboardInterrupt\u001b[0m: "
     ]
    }
   ],
   "source": [
    "if __name__ == '__main__':\n",
    "    # 染色體長度為76， 種群數量為20\n",
    "    #26列\n",
    "    count=0#计算当下迭代次数\n",
    "    ga = GA(50,10)\n",
    "    # 10次進化迭代\n",
    "    for x in range(10):\n",
    "        print(\"迭代次數：\",x)\n",
    "        print(x)\n",
    "        ga.evolve()\n",
    "   "
   ]
  },
  {
   "cell_type": "code",
   "execution_count": 14,
   "metadata": {
    "scrolled": true
   },
   "outputs": [
    {
     "name": "stdout",
     "output_type": "stream",
     "text": [
      "11100111010001000001100000001110001101101011010011\n"
     ]
    }
   ],
   "source": [
    "#geni_string=ga.result()\n",
    "#11000110111000010000000011010000001001101011011110舊\n",
    "#10000011101110101011100111101101001100101010001010新-1\n",
    "#10010100101111110111111001010110001101111001000110\n",
    "#1100111010101101100010011000011011\n",
    "#1111101011001111101110111001111111 34變數 step150 epo50 迭代20\n",
    "#1110100011000110011111011101111100\n",
    "#1111000011111000001010010010111100\n",
    "#1111000011111000001010010111001100\n",
    "#11011001100000111100111100110100110000011100100011 new\n",
    "#10001100001100100010000110000001011111110010010000\n",
    "#11011100111010110111000000111101001111100100011010 10/06\n",
    "#11100111010001000001100000001110001101101011010011 10/06-2\n",
    "geni_string=\"11100111010001000001100000001110001101101011010011\"\n",
    "#geni_string=\"1111000011111000001010010111001100\"\n",
    "print (geni_string)"
   ]
  },
  {
   "cell_type": "code",
   "execution_count": 15,
   "metadata": {},
   "outputs": [
    {
     "name": "stdout",
     "output_type": "stream",
     "text": [
      "27\n",
      "150\n",
      "141\n",
      "[[892.2679  889.3377  883.57776 ...   0.        0.        0.     ]\n",
      " [827.5576  833.3109  833.44904 ...   0.        0.        0.     ]\n",
      " [845.2422  845.22723 845.27435 ...   0.        0.        0.     ]\n",
      " ...\n",
      " [856.98865 856.96844 857.0011  ...   0.        0.        0.     ]\n",
      " [886.5086  886.5275  886.45917 ...   0.        0.        0.     ]\n",
      " [880.42114 880.563   880.5173  ...   0.        0.        0.     ]]\n",
      "(150,)\n",
      "(150, 2760)\n"
     ]
    },
    {
     "name": "stderr",
     "output_type": "stream",
     "text": [
      "C:\\Users\\User\\anaconda3\\lib\\site-packages\\sklearn\\preprocessing\\_data.py:194: UserWarning: Numerical issues were encountered when centering the data and might not be solved. Dataset may contain too large values. You may need to prescale your features.\n",
      "  warnings.warn(\"Numerical issues were encountered \"\n",
      "C:\\Users\\User\\anaconda3\\lib\\site-packages\\sklearn\\preprocessing\\_data.py:211: UserWarning: Numerical issues were encountered when scaling the data and might not be solved. The standard deviation of the data is probably very close to 0. \n",
      "  warnings.warn(\"Numerical issues were encountered \"\n",
      "C:\\Users\\User\\anaconda3\\lib\\site-packages\\sklearn\\preprocessing\\_data.py:194: UserWarning: Numerical issues were encountered when centering the data and might not be solved. Dataset may contain too large values. You may need to prescale your features.\n",
      "  warnings.warn(\"Numerical issues were encountered \"\n",
      "C:\\Users\\User\\anaconda3\\lib\\site-packages\\sklearn\\preprocessing\\_data.py:211: UserWarning: Numerical issues were encountered when scaling the data and might not be solved. The standard deviation of the data is probably very close to 0. \n",
      "  warnings.warn(\"Numerical issues were encountered \"\n"
     ]
    }
   ],
   "source": [
    "class_dirdata1='正手測/'\n",
    "class_dirdata2='反手測/'\n",
    "#特征篩選\n",
    "class_data1,class_label1,class_data2,class_label2=classdatapredeal(class_dirdata1,class_dirdata2,geni_string)\n",
    "time_step=100#時間序列設置\n"
   ]
  },
  {
   "cell_type": "code",
   "execution_count": 16,
   "metadata": {},
   "outputs": [
    {
     "data": {
      "text/plain": [
       "(150, 2760)"
      ]
     },
     "execution_count": 16,
     "metadata": {},
     "output_type": "execute_result"
    }
   ],
   "source": [
    "class_data1.shape"
   ]
  },
  {
   "cell_type": "code",
   "execution_count": 17,
   "metadata": {},
   "outputs": [
    {
     "data": {
      "text/plain": [
       "array([1, 1, 1, 1, 1, 1, 1, 1, 1, 1, 1, 1, 1, 1, 1, 1, 1, 1, 1, 1, 1, 1,\n",
       "       1, 1, 1, 1, 1, 1, 1, 1, 1, 1, 1, 1, 1, 1, 1, 1, 1, 1, 1, 1, 1, 1,\n",
       "       1, 1, 1, 1, 1, 1, 1, 1, 1, 1, 1, 1, 1, 1, 1, 1, 1, 1, 1, 1, 1, 1,\n",
       "       1, 1, 1, 1, 1, 1, 1, 1, 1, 1, 1, 1, 1, 1, 1, 1, 1, 1, 1, 1, 1, 1,\n",
       "       1, 1, 1, 1, 1, 1, 1, 1, 1, 1, 1, 1, 1, 1, 1, 1, 1, 1, 1, 1, 1, 1,\n",
       "       1, 1, 1, 1, 1, 1, 1, 1, 1, 1, 1, 1, 1, 1, 1, 1, 1, 1, 1, 1, 1, 1,\n",
       "       1, 1, 1, 1, 1, 1, 1, 1, 1])"
      ]
     },
     "execution_count": 17,
     "metadata": {},
     "output_type": "execute_result"
    }
   ],
   "source": [
    "class_label2"
   ]
  },
  {
   "cell_type": "code",
   "execution_count": 18,
   "metadata": {
    "scrolled": true
   },
   "outputs": [],
   "source": [
    "#數據和標籤設定\n",
    "class_All_data,class_All_label=classdataReorganization1(class_data1,class_label1,class_data2,class_label2,time_step)\n",
    "#訓練集測試集分割\n",
    "train_X,test_X, train_y, test_y=datasplit1(class_All_data,class_All_label)\n"
   ]
  },
  {
   "cell_type": "code",
   "execution_count": 19,
   "metadata": {},
   "outputs": [
    {
     "data": {
      "text/plain": [
       "array([[1., 0.],\n",
       "       [1., 0.],\n",
       "       [0., 1.]], dtype=float32)"
      ]
     },
     "execution_count": 19,
     "metadata": {},
     "output_type": "execute_result"
    }
   ],
   "source": [
    "test_y[:3]"
   ]
  },
  {
   "cell_type": "code",
   "execution_count": 28,
   "metadata": {},
   "outputs": [
    {
     "name": "stdout",
     "output_type": "stream",
     "text": [
      "Model: \"sequential_116\"\n",
      "_________________________________________________________________\n",
      "Layer (type)                 Output Shape              Param #   \n",
      "=================================================================\n",
      "lstm_232 (LSTM)              (None, 100, 20)           222480    \n",
      "_________________________________________________________________\n",
      "lstm_233 (LSTM)              (None, 20)                3280      \n",
      "_________________________________________________________________\n",
      "batch_normalization_116 (Bat (None, 20)                80        \n",
      "_________________________________________________________________\n",
      "dense_116 (Dense)            (None, 2)                 42        \n",
      "=================================================================\n",
      "Total params: 225,882\n",
      "Trainable params: 225,842\n",
      "Non-trainable params: 40\n",
      "_________________________________________________________________\n",
      "Epoch 1/50\n",
      "1/1 [==============================] - 0s 248ms/step - loss: 0.2489 - accuracy: 0.5833 - val_loss: 0.6207 - val_accuracy: 0.3333\n",
      "Epoch 2/50\n",
      "1/1 [==============================] - 0s 34ms/step - loss: 0.2338 - accuracy: 0.6944 - val_loss: 0.7123 - val_accuracy: 0.2222\n",
      "Epoch 3/50\n",
      "1/1 [==============================] - 0s 34ms/step - loss: 0.3024 - accuracy: 0.5833 - val_loss: 0.7578 - val_accuracy: 0.0000e+00\n",
      "Epoch 4/50\n",
      "1/1 [==============================] - 0s 34ms/step - loss: 0.3532 - accuracy: 0.3611 - val_loss: 0.4440 - val_accuracy: 0.3333\n",
      "Epoch 5/50\n",
      "1/1 [==============================] - 0s 34ms/step - loss: 0.2175 - accuracy: 0.7222 - val_loss: 0.2515 - val_accuracy: 0.3333\n",
      "Epoch 6/50\n",
      "1/1 [==============================] - 0s 34ms/step - loss: 0.2346 - accuracy: 0.6667 - val_loss: 0.1655 - val_accuracy: 0.8889\n",
      "Epoch 7/50\n",
      "1/1 [==============================] - 0s 35ms/step - loss: 0.1900 - accuracy: 0.8611 - val_loss: 0.1586 - val_accuracy: 1.0000\n",
      "Epoch 8/50\n",
      "1/1 [==============================] - 0s 34ms/step - loss: 0.1996 - accuracy: 0.9444 - val_loss: 0.1601 - val_accuracy: 1.0000\n",
      "Epoch 9/50\n",
      "1/1 [==============================] - 0s 34ms/step - loss: 0.1688 - accuracy: 0.8333 - val_loss: 0.3093 - val_accuracy: 0.7778\n",
      "Epoch 10/50\n",
      "1/1 [==============================] - 0s 34ms/step - loss: 0.1760 - accuracy: 0.6389 - val_loss: 0.1846 - val_accuracy: 0.8889\n",
      "Epoch 11/50\n",
      "1/1 [==============================] - 0s 34ms/step - loss: 0.2006 - accuracy: 0.7778 - val_loss: 0.2106 - val_accuracy: 0.8889\n",
      "Epoch 12/50\n",
      "1/1 [==============================] - 0s 34ms/step - loss: 0.1918 - accuracy: 0.7500 - val_loss: 0.2583 - val_accuracy: 0.7778\n",
      "Epoch 13/50\n",
      "1/1 [==============================] - 0s 33ms/step - loss: 0.1850 - accuracy: 0.8056 - val_loss: 0.3158 - val_accuracy: 0.6667\n",
      "Epoch 14/50\n",
      "1/1 [==============================] - 0s 34ms/step - loss: 0.2371 - accuracy: 0.7222 - val_loss: 0.2663 - val_accuracy: 0.7778\n",
      "Epoch 15/50\n",
      "1/1 [==============================] - 0s 36ms/step - loss: 0.1665 - accuracy: 0.8889 - val_loss: 0.2312 - val_accuracy: 0.7778\n",
      "Epoch 16/50\n",
      "1/1 [==============================] - 0s 35ms/step - loss: 0.2343 - accuracy: 0.6944 - val_loss: 0.2568 - val_accuracy: 0.7778\n",
      "Epoch 17/50\n",
      "1/1 [==============================] - 0s 35ms/step - loss: 0.2004 - accuracy: 0.7500 - val_loss: 0.1868 - val_accuracy: 0.8889\n",
      "Epoch 18/50\n",
      "1/1 [==============================] - 0s 35ms/step - loss: 0.1712 - accuracy: 0.7500 - val_loss: 0.1885 - val_accuracy: 0.8889\n",
      "Epoch 19/50\n",
      "1/1 [==============================] - 0s 34ms/step - loss: 0.1748 - accuracy: 0.6944 - val_loss: 0.2786 - val_accuracy: 0.7778\n",
      "Epoch 20/50\n",
      "1/1 [==============================] - 0s 34ms/step - loss: 0.1542 - accuracy: 0.7778 - val_loss: 0.2763 - val_accuracy: 0.7778\n",
      "Epoch 21/50\n",
      "1/1 [==============================] - 0s 34ms/step - loss: 0.1581 - accuracy: 0.8333 - val_loss: 0.2155 - val_accuracy: 0.7778\n",
      "Epoch 22/50\n",
      "1/1 [==============================] - 0s 35ms/step - loss: 0.1985 - accuracy: 0.6667 - val_loss: 0.2423 - val_accuracy: 0.7778\n",
      "Epoch 23/50\n",
      "1/1 [==============================] - 0s 37ms/step - loss: 0.2097 - accuracy: 0.6389 - val_loss: 0.1958 - val_accuracy: 0.8889\n",
      "Epoch 24/50\n",
      "1/1 [==============================] - 0s 34ms/step - loss: 0.2134 - accuracy: 0.6944 - val_loss: 0.2301 - val_accuracy: 0.7778\n",
      "Epoch 25/50\n",
      "1/1 [==============================] - 0s 34ms/step - loss: 0.1839 - accuracy: 0.7778 - val_loss: 0.1879 - val_accuracy: 0.7778\n",
      "Epoch 26/50\n",
      "1/1 [==============================] - 0s 34ms/step - loss: 0.1596 - accuracy: 0.8056 - val_loss: 0.1874 - val_accuracy: 0.8889\n",
      "Epoch 27/50\n",
      "1/1 [==============================] - 0s 34ms/step - loss: 0.1820 - accuracy: 0.7500 - val_loss: 0.1631 - val_accuracy: 0.8889\n",
      "Epoch 28/50\n",
      "1/1 [==============================] - 0s 34ms/step - loss: 0.1592 - accuracy: 0.7500 - val_loss: 0.1957 - val_accuracy: 0.8889\n",
      "Epoch 29/50\n",
      "1/1 [==============================] - 0s 35ms/step - loss: 0.1623 - accuracy: 0.7778 - val_loss: 0.1883 - val_accuracy: 0.6667\n",
      "Epoch 30/50\n",
      "1/1 [==============================] - 0s 35ms/step - loss: 0.1419 - accuracy: 0.8889 - val_loss: 0.1982 - val_accuracy: 0.4444\n",
      "Epoch 31/50\n",
      "1/1 [==============================] - 0s 35ms/step - loss: 0.1535 - accuracy: 0.7778 - val_loss: 0.2106 - val_accuracy: 0.4444\n",
      "Epoch 32/50\n",
      "1/1 [==============================] - 0s 34ms/step - loss: 0.1746 - accuracy: 0.7778 - val_loss: 0.2278 - val_accuracy: 0.4444\n",
      "Epoch 33/50\n",
      "1/1 [==============================] - 0s 34ms/step - loss: 0.1841 - accuracy: 0.7222 - val_loss: 0.2249 - val_accuracy: 0.6667\n",
      "Epoch 34/50\n",
      "1/1 [==============================] - 0s 34ms/step - loss: 0.2180 - accuracy: 0.7222 - val_loss: 0.3281 - val_accuracy: 0.2222\n",
      "Epoch 35/50\n",
      "1/1 [==============================] - 0s 34ms/step - loss: 0.2271 - accuracy: 0.7500 - val_loss: 0.3352 - val_accuracy: 0.2222\n",
      "Epoch 36/50\n",
      "1/1 [==============================] - 0s 35ms/step - loss: 0.2004 - accuracy: 0.7500 - val_loss: 0.3825 - val_accuracy: 0.2222\n",
      "Epoch 37/50\n",
      "1/1 [==============================] - 0s 35ms/step - loss: 0.2423 - accuracy: 0.6944 - val_loss: 0.4020 - val_accuracy: 0.2222\n",
      "Epoch 38/50\n",
      "1/1 [==============================] - 0s 35ms/step - loss: 0.2394 - accuracy: 0.7222 - val_loss: 0.4673 - val_accuracy: 0.1111\n",
      "Epoch 39/50\n",
      "1/1 [==============================] - 0s 35ms/step - loss: 0.2682 - accuracy: 0.6667 - val_loss: 0.3668 - val_accuracy: 0.3333\n",
      "Epoch 40/50\n",
      "1/1 [==============================] - 0s 35ms/step - loss: 0.2710 - accuracy: 0.6389 - val_loss: 0.3042 - val_accuracy: 0.4444\n",
      "Epoch 41/50\n",
      "1/1 [==============================] - 0s 34ms/step - loss: 0.2436 - accuracy: 0.6667 - val_loss: 0.1993 - val_accuracy: 0.5556\n",
      "Epoch 42/50\n",
      "1/1 [==============================] - 0s 34ms/step - loss: 0.2861 - accuracy: 0.5278 - val_loss: 0.2906 - val_accuracy: 0.2222\n",
      "Epoch 43/50\n",
      "1/1 [==============================] - 0s 34ms/step - loss: 0.2755 - accuracy: 0.5833 - val_loss: 0.2248 - val_accuracy: 0.5556\n",
      "Epoch 44/50\n",
      "1/1 [==============================] - 0s 34ms/step - loss: 0.2965 - accuracy: 0.5278 - val_loss: 0.2859 - val_accuracy: 0.4444\n",
      "Epoch 45/50\n",
      "1/1 [==============================] - 0s 35ms/step - loss: 0.2725 - accuracy: 0.5833 - val_loss: 0.2250 - val_accuracy: 0.6667\n",
      "Epoch 46/50\n",
      "1/1 [==============================] - 0s 34ms/step - loss: 0.2726 - accuracy: 0.6389 - val_loss: 0.2199 - val_accuracy: 0.6667\n",
      "Epoch 47/50\n",
      "1/1 [==============================] - 0s 35ms/step - loss: 0.2763 - accuracy: 0.5833 - val_loss: 0.2387 - val_accuracy: 0.6667\n",
      "Epoch 48/50\n",
      "1/1 [==============================] - 0s 35ms/step - loss: 0.2158 - accuracy: 0.6389 - val_loss: 0.2609 - val_accuracy: 0.6667\n",
      "Epoch 49/50\n",
      "1/1 [==============================] - 0s 34ms/step - loss: 0.2587 - accuracy: 0.5833 - val_loss: 0.3604 - val_accuracy: 0.4444\n",
      "Epoch 50/50\n",
      "1/1 [==============================] - 0s 34ms/step - loss: 0.2889 - accuracy: 0.5000 - val_loss: 0.2937 - val_accuracy: 0.5556\n"
     ]
    }
   ],
   "source": [
    "#模型訓練\n",
    "timemodel=timeModel1(train_X,time_step)\n",
    "history = timemodel.fit(train_X,train_y,epochs=50, validation_split=0.2,batch_size=50, verbose=1)"
   ]
  },
  {
   "cell_type": "code",
   "execution_count": 39,
   "metadata": {},
   "outputs": [
    {
     "data": {
      "image/png": "[encoded data removed]",
      "text/plain": [
       "<Figure size 864x288 with 2 Axes>"
      ]
     },
     "metadata": {},
     "output_type": "display_data"
    }
   ],
   "source": [
    "f, (ax1, ax2) = plt.subplots(1, 2, figsize=(12, 4))\n",
    "t = f.suptitle('class model evaluate', fontsize=12)\n",
    "f.subplots_adjust(top=0.85, wspace=0.3)\n",
    "\n",
    "class_epoch_list = list(range(1,51))\n",
    "ax1.plot(class_epoch_list, history.history['accuracy'], label='class_Train Accuracy')\n",
    "ax1.plot(class_epoch_list, history.history['val_accuracy'], label='class_Validation Accuracy')\n",
    "ax1.set_xticks(np.arange(0, 51, 5))\n",
    "ax1.set_ylabel('class_Accuracy Value')\n",
    "ax1.set_xlabel('class_Epoch')\n",
    "ax1.set_title('class_Accuracy')\n",
    "l1 = ax1.legend(loc=\"best\")\n",
    "\n",
    "ax2.plot(class_epoch_list, history.history['loss'], label='class_Train Loss')\n",
    "ax2.plot(class_epoch_list, history.history['val_loss'], label='class_Validation Loss')\n",
    "ax2.set_xticks(np.arange(0, 51, 5))\n",
    "ax2.set_ylabel('class_Loss Value')\n",
    "ax2.set_xlabel('class_Epoch')\n",
    "ax2.set_title('class_Loss')\n",
    "l2 = ax2.legend(loc=\"best\")"
   ]
  },
  {
   "cell_type": "code",
   "execution_count": 30,
   "metadata": {},
   "outputs": [
    {
     "name": "stdout",
     "output_type": "stream",
     "text": [
      "2/2 - 0s\n"
     ]
    }
   ],
   "source": [
    "#對分類區中的test進行預測\n",
    "time_pre=timemodel.predict(test_X,verbose=2)"
   ]
  },
  {
   "cell_type": "code",
   "execution_count": 31,
   "metadata": {},
   "outputs": [
    {
     "data": {
      "text/plain": [
       "array([[1., 0.],\n",
       "       [1., 0.],\n",
       "       [0., 1.]], dtype=float32)"
      ]
     },
     "execution_count": 31,
     "metadata": {},
     "output_type": "execute_result"
    }
   ],
   "source": [
    "test_y[:3]"
   ]
  },
  {
   "cell_type": "code",
   "execution_count": 32,
   "metadata": {},
   "outputs": [
    {
     "data": {
      "text/plain": [
       "array([[0.01146933, 0.9504182 ],\n",
       "       [0.5923906 , 0.4731993 ],\n",
       "       [0.91238815, 0.05144984]], dtype=float32)"
      ]
     },
     "execution_count": 32,
     "metadata": {},
     "output_type": "execute_result"
    }
   ],
   "source": [
    "time_pre[:3]"
   ]
  },
  {
   "cell_type": "code",
   "execution_count": 33,
   "metadata": {},
   "outputs": [
    {
     "name": "stdout",
     "output_type": "stream",
     "text": [
      "Test RMSE: 0.543\n"
     ]
    }
   ],
   "source": [
    "# calculate RMSE\n",
    "rmse = sqrt(mean_squared_error(test_y, time_pre))\n",
    "print('Test RMSE: %.3f' % rmse)"
   ]
  },
  {
   "cell_type": "code",
   "execution_count": 34,
   "metadata": {},
   "outputs": [],
   "source": [
    "Y_pred = np.argmax(time_pre,axis=1)\n",
    "Y_test = np.argmax(test_y,axis=1)"
   ]
  },
  {
   "cell_type": "code",
   "execution_count": 35,
   "metadata": {},
   "outputs": [],
   "source": [
    "from sklearn.metrics import confusion_matrix\n",
    "from sklearn.metrics import classification_report"
   ]
  },
  {
   "cell_type": "code",
   "execution_count": 36,
   "metadata": {},
   "outputs": [
    {
     "name": "stdout",
     "output_type": "stream",
     "text": [
      "[[21  9]\n",
      " [ 7  9]]\n",
      "              precision    recall  f1-score   support\n",
      "\n",
      "           0       0.75      0.70      0.72        30\n",
      "           1       0.50      0.56      0.53        16\n",
      "\n",
      "    accuracy                           0.65        46\n",
      "   macro avg       0.62      0.63      0.63        46\n",
      "weighted avg       0.66      0.65      0.66        46\n",
      "\n"
     ]
    },
    {
     "data": {
      "image/png": "[encoded data removed]",
      "text/plain": [
       "<Figure size 432x288 with 1 Axes>"
      ]
     },
     "metadata": {},
     "output_type": "display_data"
    }
   ],
   "source": [
    "mat = confusion_matrix(Y_test,Y_pred)\n",
    "from matplotlib import pyplot as plt\n",
    "import seaborn as sns\n",
    "\n",
    "sns.set(font_scale=1.5)\n",
    "sns.heatmap(mat,square=True,annot=True,fmt='d',cbar=False)\n",
    "\n",
    "plt.xticks(fontsize=20)\n",
    "plt.yticks(fontsize=20)\n",
    "\n",
    "plt.xlabel('pred label')\n",
    "plt.ylabel('true label')\n",
    "\n",
    "t = ['0','1']\n",
    "print(mat)\n",
    "print(classification_report(Y_test,Y_pred,target_names=t))"
   ]
  },
  {
   "cell_type": "code",
   "execution_count": 37,
   "metadata": {},
   "outputs": [
    {
     "data": {
      "text/plain": [
       "Text(0.5, 1.0, 'Predicted label (first 100)')"
      ]
     },
     "execution_count": 37,
     "metadata": {},
     "output_type": "execute_result"
    },
    {
     "data": {
      "image/png": "[encoded data removed]",
      "text/plain": [
       "<Figure size 288x216 with 1 Axes>"
      ]
     },
     "metadata": {},
     "output_type": "display_data"
    }
   ],
   "source": [
    "plt.figure(figsize=(4,3))\n",
    "\n",
    "\n",
    "# plt.subplot(3,1,1)\n",
    "plt.plot(Y_test[:150], color = 'black', linewidth=1, label = 'True value')\n",
    "plt.plot(time_pre[:150], color = 'red', label = 'Predicted')\n",
    "plt.legend(frameon=False)\n",
    "plt.ylabel(\"label forecast\")\n",
    "plt.xlabel(\"time\")\n",
    "plt.title(\"Predicted label (first 100)\")"
   ]
  },
  {
   "cell_type": "code",
   "execution_count": 122,
   "metadata": {},
   "outputs": [],
   "source": [
    "#timemodel.save('t-lstm.h5')"
   ]
  },
  {
   "cell_type": "code",
   "execution_count": 123,
   "metadata": {},
   "outputs": [],
   "source": [
    "#讀取model\n",
    "modello = keras.models.load_model('t-lstm.h5')"
   ]
  },
  {
   "cell_type": "code",
   "execution_count": 125,
   "metadata": {},
   "outputs": [
    {
     "name": "stdout",
     "output_type": "stream",
     "text": [
      "17\n",
      "217\n",
      "174\n",
      "[[907.01166 906.9641  904.2041  ...   0.        0.        0.     ]\n",
      " [927.5018  930.56915 933.6062  ...   0.        0.        0.     ]\n",
      " [892.2679  889.3377  883.57776 ...   0.        0.        0.     ]\n",
      " ...\n",
      " [921.6772  921.78296 924.62537 ...   0.        0.        0.     ]\n",
      " [921.7637  921.7229  915.86456 ...   0.        0.        0.     ]\n",
      " [957.08356 957.1126  957.07367 ...   0.        0.        0.     ]]\n",
      "(217,)\n",
      "(217, 2040)\n"
     ]
    },
    {
     "name": "stderr",
     "output_type": "stream",
     "text": [
      "C:\\Users\\User\\anaconda3\\lib\\site-packages\\sklearn\\preprocessing\\_data.py:194: UserWarning: Numerical issues were encountered when centering the data and might not be solved. Dataset may contain too large values. You may need to prescale your features.\n",
      "  warnings.warn(\"Numerical issues were encountered \"\n",
      "C:\\Users\\User\\anaconda3\\lib\\site-packages\\sklearn\\preprocessing\\_data.py:211: UserWarning: Numerical issues were encountered when scaling the data and might not be solved. The standard deviation of the data is probably very close to 0. \n",
      "  warnings.warn(\"Numerical issues were encountered \"\n",
      "C:\\Users\\User\\anaconda3\\lib\\site-packages\\sklearn\\preprocessing\\_data.py:194: UserWarning: Numerical issues were encountered when centering the data and might not be solved. Dataset may contain too large values. You may need to prescale your features.\n",
      "  warnings.warn(\"Numerical issues were encountered \"\n",
      "C:\\Users\\User\\anaconda3\\lib\\site-packages\\sklearn\\preprocessing\\_data.py:211: UserWarning: Numerical issues were encountered when scaling the data and might not be solved. The standard deviation of the data is probably very close to 0. \n",
      "  warnings.warn(\"Numerical issues were encountered \"\n"
     ]
    }
   ],
   "source": [
    "geni_string=\"1111000011111000001010010111001100\"\n",
    "class_dirdata1='forehand_other/'\n",
    "class_dirdata2='backhand_other/'\n",
    "#特征篩選\n",
    "class_data1,class_label1,class_data2,class_label2=classdatapredeal(class_dirdata1,class_dirdata2,geni_string)\n",
    "time_step=150#時間序列設置"
   ]
  },
  {
   "cell_type": "code",
   "execution_count": 126,
   "metadata": {},
   "outputs": [
    {
     "data": {
      "text/plain": [
       "(217, 2040)"
      ]
     },
     "execution_count": 126,
     "metadata": {},
     "output_type": "execute_result"
    }
   ],
   "source": [
    "class_data1.shape"
   ]
  },
  {
   "cell_type": "code",
   "execution_count": 127,
   "metadata": {},
   "outputs": [
    {
     "data": {
      "text/plain": [
       "array([[0.17156641, 0.18031666, 0.17094249, ..., 0.        , 0.        ,\n",
       "        0.        ],\n",
       "       [0.33240753, 0.36529893, 0.40148962, ..., 0.        , 0.        ,\n",
       "        0.        ],\n",
       "       [0.05583227, 0.04218635, 0.00920764, ..., 0.        , 0.        ,\n",
       "        0.        ],\n",
       "       ...,\n",
       "       [0.2866863 , 0.29644543, 0.3310693 , ..., 0.        , 0.        ,\n",
       "        0.        ],\n",
       "       [0.2873652 , 0.29597476, 0.26237425, ..., 0.        , 0.        ,\n",
       "        0.        ],\n",
       "       [0.56461555, 0.57330817, 0.5855022 , ..., 0.        , 0.        ,\n",
       "        0.        ]], dtype=float32)"
      ]
     },
     "execution_count": 127,
     "metadata": {},
     "output_type": "execute_result"
    }
   ],
   "source": [
    "class_data1"
   ]
  },
  {
   "cell_type": "code",
   "execution_count": 128,
   "metadata": {},
   "outputs": [
    {
     "data": {
      "text/plain": [
       "array([1, 1, 1, 1, 1, 1, 1, 1, 1, 1, 1, 1, 1, 1, 1, 1, 1, 1, 1, 1, 1, 1,\n",
       "       1, 1, 1, 1, 1, 1, 1, 1, 1, 1, 1, 1, 1, 1, 1, 1, 1, 1, 1, 1, 1, 1,\n",
       "       1, 1, 1, 1, 1, 1, 1, 1, 1, 1, 1, 1, 1, 1, 1, 1, 1, 1, 1, 1, 1, 1,\n",
       "       1, 1, 1, 1, 1, 1, 1, 1, 1, 1, 1, 1, 1, 1, 1, 1, 1, 1, 1, 1, 1, 1,\n",
       "       1, 1, 1, 1, 1, 1, 1, 1, 1, 1, 1, 1, 1, 1, 1, 1, 1, 1, 1, 1, 1, 1,\n",
       "       1, 1, 1, 1, 1, 1, 1, 1, 1, 1, 1, 1, 1, 1, 1, 1, 1, 1, 1, 1, 1, 1,\n",
       "       1, 1, 1, 1, 1, 1, 1, 1, 1, 1, 1, 1, 1, 1, 1, 1, 1, 1, 1, 1, 1, 1,\n",
       "       1, 1, 1, 1, 1, 1, 1, 1, 1, 1, 1, 1, 1, 1, 1, 1, 1, 1, 1, 1])"
      ]
     },
     "execution_count": 128,
     "metadata": {},
     "output_type": "execute_result"
    }
   ],
   "source": [
    "class_label2"
   ]
  },
  {
   "cell_type": "code",
   "execution_count": 129,
   "metadata": {},
   "outputs": [],
   "source": [
    "#數據和標籤設定\n",
    "test_All_data,test_All_label=classdataReorganization1(class_data1,class_label1,class_data2,class_label2,time_step)"
   ]
  },
  {
   "cell_type": "code",
   "execution_count": 130,
   "metadata": {},
   "outputs": [
    {
     "name": "stdout",
     "output_type": "stream",
     "text": [
      "3/3 - 0s\n"
     ]
    }
   ],
   "source": [
    "#對分類區中的test進行預測\n",
    "time_pre=modello.predict(test_All_data,verbose=2)"
   ]
  },
  {
   "cell_type": "code",
   "execution_count": 131,
   "metadata": {},
   "outputs": [
    {
     "data": {
      "text/plain": [
       "array([[1., 0.],\n",
       "       [1., 0.],\n",
       "       [1., 0.]], dtype=float32)"
      ]
     },
     "execution_count": 131,
     "metadata": {},
     "output_type": "execute_result"
    }
   ],
   "source": [
    "test_All_label[:3]"
   ]
  },
  {
   "cell_type": "code",
   "execution_count": 132,
   "metadata": {},
   "outputs": [
    {
     "data": {
      "text/plain": [
       "array([[0.9805745 , 0.02194503],\n",
       "       [0.97498727, 0.06682932],\n",
       "       [0.98053277, 0.05037218]], dtype=float32)"
      ]
     },
     "execution_count": 132,
     "metadata": {},
     "output_type": "execute_result"
    }
   ],
   "source": [
    "time_pre[:3]"
   ]
  },
  {
   "cell_type": "code",
   "execution_count": 133,
   "metadata": {},
   "outputs": [
    {
     "name": "stdout",
     "output_type": "stream",
     "text": [
      "Test RMSE: 0.340\n"
     ]
    }
   ],
   "source": [
    "# calculate RMSE\n",
    "rmse = sqrt(mean_squared_error(test_All_label, time_pre))\n",
    "print('Test RMSE: %.3f' % rmse)"
   ]
  },
  {
   "cell_type": "code",
   "execution_count": 134,
   "metadata": {},
   "outputs": [],
   "source": [
    "Y_pred = np.argmax(time_pre,axis=1)\n",
    "Y_test = np.argmax(test_All_label,axis=1)"
   ]
  },
  {
   "cell_type": "code",
   "execution_count": 135,
   "metadata": {},
   "outputs": [],
   "source": [
    "from sklearn.metrics import confusion_matrix\n",
    "from sklearn.metrics import classification_report"
   ]
  },
  {
   "cell_type": "code",
   "execution_count": 136,
   "metadata": {},
   "outputs": [
    {
     "name": "stdout",
     "output_type": "stream",
     "text": [
      "[[52 15]\n",
      " [ 0 24]]\n",
      "              precision    recall  f1-score   support\n",
      "\n",
      "           0       1.00      0.78      0.87        67\n",
      "           1       0.62      1.00      0.76        24\n",
      "\n",
      "    accuracy                           0.84        91\n",
      "   macro avg       0.81      0.89      0.82        91\n",
      "weighted avg       0.90      0.84      0.84        91\n",
      "\n"
     ]
    },
    {
     "data": {
      "image/png": "[encoded data removed]",
      "text/plain": [
       "<Figure size 432x288 with 1 Axes>"
      ]
     },
     "metadata": {},
     "output_type": "display_data"
    }
   ],
   "source": [
    "mat = confusion_matrix(Y_test,Y_pred)\n",
    "from matplotlib import pyplot as plt\n",
    "import seaborn as sns\n",
    "\n",
    "sns.set(font_scale=1.5)\n",
    "sns.heatmap(mat,square=True,annot=True,fmt='d',cbar=False)\n",
    "\n",
    "plt.xticks(fontsize=20)\n",
    "plt.yticks(fontsize=20)\n",
    "\n",
    "plt.xlabel('pred label')\n",
    "plt.ylabel('true label')\n",
    "\n",
    "t = ['0','1']\n",
    "print(mat)\n",
    "print(classification_report(Y_test,Y_pred,target_names=t))"
   ]
  },
  {
   "cell_type": "code",
   "execution_count": 137,
   "metadata": {},
   "outputs": [
    {
     "data": {
      "text/plain": [
       "Text(0.5, 1.0, 'Predicted label (first 100)')"
      ]
     },
     "execution_count": 137,
     "metadata": {},
     "output_type": "execute_result"
    },
    {
     "data": {
      "image/png": "[encoded data removed]",
      "text/plain": [
       "<Figure size 288x216 with 1 Axes>"
      ]
     },
     "metadata": {},
     "output_type": "display_data"
    }
   ],
   "source": [
    "plt.figure(figsize=(4,3))\n",
    "\n",
    "# plt.subplot(3,1,1)\n",
    "plt.plot(Y_test[:150], color = 'black', linewidth=1, label = 'True value')\n",
    "plt.plot(time_pre[:150], color = 'red', label = 'Predicted')\n",
    "plt.legend(frameon=False)\n",
    "plt.ylabel(\"label forecast\")\n",
    "plt.xlabel(\"time\")\n",
    "plt.title(\"Predicted label (first 100)\")"
   ]
  },
  {
   "cell_type": "code",
   "execution_count": null,
   "metadata": {},
   "outputs": [],
   "source": []
  },
  {
   "cell_type": "code",
   "execution_count": null,
   "metadata": {},
   "outputs": [],
   "source": []
  }
 ],
 "metadata": {
  "kernelspec": {
   "display_name": "Python 3",
   "language": "python",
   "name": "python3"
  },
  "language_info": {
   "codemirror_mode": {
    "name": "ipython",
    "version": 3
   },
   "file_extension": ".py",
   "mimetype": "text/x-python",
   "name": "python",
   "nbconvert_exporter": "python",
   "pygments_lexer": "ipython3",
   "version": "3.8.8"
  }
 },
 "nbformat": 4,
 "nbformat_minor": 2
}
